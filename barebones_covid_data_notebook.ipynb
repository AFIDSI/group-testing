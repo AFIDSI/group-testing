{
 "cells": [
  {
   "cell_type": "code",
   "execution_count": 3,
   "metadata": {
    "collapsed": true
   },
   "outputs": [],
   "source": [
    "import psycopg2"
   ]
  },
  {
   "cell_type": "code",
   "execution_count": 4,
   "metadata": {},
   "outputs": [],
   "source": [
    "conn = psycopg2.connect(\"dbname=covid19 user=jmc678 password=\")"
   ]
  },
  {
   "cell_type": "code",
   "execution_count": 9,
   "metadata": {
    "collapsed": true
   },
   "outputs": [],
   "source": [
    "sql_query = \"\"\"\n",
    "select distinct province_state from time_series_covid19_confirmed;\n",
    "\"\"\"\n",
    "cur = conn.cursor()\n",
    "cur.execute(sql_query)\n",
    "rows = cur.fetchall()"
   ]
  },
  {
   "cell_type": "code",
   "execution_count": 10,
   "metadata": {},
   "outputs": [
    {
     "data": {
      "text/plain": [
       "[('Alabama',),\n",
       " ('Indiana',),\n",
       " ('Minnesota',),\n",
       " ('Louisiana',),\n",
       " ('South Carolina',),\n",
       " ('California',),\n",
       " ('New Mexico',),\n",
       " ('New Hampshire',),\n",
       " ('American Samoa',),\n",
       " ('Connecticut',),\n",
       " ('Alaska',),\n",
       " ('Nevada',),\n",
       " ('Oklahoma',),\n",
       " ('Idaho',),\n",
       " ('Maryland',),\n",
       " ('Ohio',),\n",
       " ('Delaware',),\n",
       " ('Florida',),\n",
       " ('Maine',),\n",
       " ('Illinois',),\n",
       " ('Montana',),\n",
       " ('Oregon',),\n",
       " ('Rhode Island',),\n",
       " ('Texas',),\n",
       " ('Mississippi',),\n",
       " ('Kansas',),\n",
       " ('New Jersey',),\n",
       " ('Puerto Rico',),\n",
       " ('Wisconsin',),\n",
       " ('Pennsylvania',),\n",
       " ('Tennessee',),\n",
       " ('New York',),\n",
       " ('Georgia',),\n",
       " ('Diamond Princess',),\n",
       " ('Vermont',),\n",
       " ('Virgin Islands',),\n",
       " ('Colorado',),\n",
       " ('Arkansas',),\n",
       " ('Hawaii',),\n",
       " ('North Dakota',),\n",
       " ('Washington',),\n",
       " ('Grand Princess',),\n",
       " ('Virginia',),\n",
       " ('Wyoming',),\n",
       " ('West Virginia',),\n",
       " ('Missouri',),\n",
       " ('Guam',),\n",
       " ('Iowa',),\n",
       " ('Northern Mariana Islands',),\n",
       " ('District of Columbia',),\n",
       " ('South Dakota',),\n",
       " ('Arizona',),\n",
       " ('Utah',),\n",
       " ('Kentucky',),\n",
       " ('Nebraska',),\n",
       " ('North Carolina',),\n",
       " ('Massachusetts',),\n",
       " ('Michigan',)]"
      ]
     },
     "execution_count": 10,
     "metadata": {},
     "output_type": "execute_result"
    }
   ],
   "source": [
    "rows "
   ]
  },
  {
   "cell_type": "code",
   "execution_count": 5,
   "metadata": {},
   "outputs": [],
   "source": [
    "sql_query = \"\"\"\n",
    "select date,\n",
    "        county_name,\n",
    "        long_county_name,\n",
    "        province_state as state,\n",
    "        POP060210 as pop_density,\n",
    "        population,\n",
    "        death_count\n",
    "    from county_data c\n",
    "        inner join (\n",
    "            select UID - 84000000 as fips,\n",
    "                    date,\n",
    "                    admin2 as county_name,\n",
    "                    combined_key as long_county_name,\n",
    "                    province_state,\n",
    "                    count as death_count,\n",
    "                    population\n",
    "            from time_series_covid19_deaths\n",
    "        ) t\n",
    "    on c.fips = t.fips;\n",
    "\"\"\"\n",
    "cur = conn.cursor()\n",
    "cur.execute(sql_query)\n",
    "rows = cur.fetchall()"
   ]
  },
  {
   "cell_type": "code",
   "execution_count": 6,
   "metadata": {
    "collapsed": true
   },
   "outputs": [],
   "source": [
    "import pandas as pd\n",
    "df = pd.read_sql_query(sql_query, con=conn)"
   ]
  },
  {
   "cell_type": "code",
   "execution_count": 8,
   "metadata": {},
   "outputs": [],
   "source": [
    "df.to_csv('/nfs01/covid_county_data.csv')"
   ]
  },
  {
   "cell_type": "code",
   "execution_count": 9,
   "metadata": {},
   "outputs": [
    {
     "data": {
      "text/html": [
       "<div>\n",
       "<style>\n",
       "    .dataframe thead tr:only-child th {\n",
       "        text-align: right;\n",
       "    }\n",
       "\n",
       "    .dataframe thead th {\n",
       "        text-align: left;\n",
       "    }\n",
       "\n",
       "    .dataframe tbody tr th {\n",
       "        vertical-align: top;\n",
       "    }\n",
       "</style>\n",
       "<table border=\"1\" class=\"dataframe\">\n",
       "  <thead>\n",
       "    <tr style=\"text-align: right;\">\n",
       "      <th></th>\n",
       "      <th>date</th>\n",
       "      <th>county_name</th>\n",
       "      <th>long_county_name</th>\n",
       "      <th>state</th>\n",
       "      <th>pop_density</th>\n",
       "      <th>population</th>\n",
       "      <th>death_count</th>\n",
       "    </tr>\n",
       "  </thead>\n",
       "  <tbody>\n",
       "    <tr>\n",
       "      <th>0</th>\n",
       "      <td>3/31/20</td>\n",
       "      <td>Autauga</td>\n",
       "      <td>Autauga, Alabama, US</td>\n",
       "      <td>Alabama</td>\n",
       "      <td>91.8</td>\n",
       "      <td>55869</td>\n",
       "      <td>0</td>\n",
       "    </tr>\n",
       "    <tr>\n",
       "      <th>1</th>\n",
       "      <td>3/31/20</td>\n",
       "      <td>Baldwin</td>\n",
       "      <td>Baldwin, Alabama, US</td>\n",
       "      <td>Alabama</td>\n",
       "      <td>114.6</td>\n",
       "      <td>223234</td>\n",
       "      <td>1</td>\n",
       "    </tr>\n",
       "    <tr>\n",
       "      <th>2</th>\n",
       "      <td>3/31/20</td>\n",
       "      <td>Barbour</td>\n",
       "      <td>Barbour, Alabama, US</td>\n",
       "      <td>Alabama</td>\n",
       "      <td>31.0</td>\n",
       "      <td>24686</td>\n",
       "      <td>0</td>\n",
       "    </tr>\n",
       "    <tr>\n",
       "      <th>3</th>\n",
       "      <td>3/31/20</td>\n",
       "      <td>Bibb</td>\n",
       "      <td>Bibb, Alabama, US</td>\n",
       "      <td>Alabama</td>\n",
       "      <td>36.8</td>\n",
       "      <td>22394</td>\n",
       "      <td>0</td>\n",
       "    </tr>\n",
       "    <tr>\n",
       "      <th>4</th>\n",
       "      <td>3/31/20</td>\n",
       "      <td>Blount</td>\n",
       "      <td>Blount, Alabama, US</td>\n",
       "      <td>Alabama</td>\n",
       "      <td>88.9</td>\n",
       "      <td>57826</td>\n",
       "      <td>0</td>\n",
       "    </tr>\n",
       "  </tbody>\n",
       "</table>\n",
       "</div>"
      ],
      "text/plain": [
       "      date county_name      long_county_name    state  pop_density population  \\\n",
       "0  3/31/20     Autauga  Autauga, Alabama, US  Alabama         91.8      55869   \n",
       "1  3/31/20     Baldwin  Baldwin, Alabama, US  Alabama        114.6     223234   \n",
       "2  3/31/20     Barbour  Barbour, Alabama, US  Alabama         31.0      24686   \n",
       "3  3/31/20        Bibb     Bibb, Alabama, US  Alabama         36.8      22394   \n",
       "4  3/31/20      Blount   Blount, Alabama, US  Alabama         88.9      57826   \n",
       "\n",
       "   death_count  \n",
       "0            0  \n",
       "1            1  \n",
       "2            0  \n",
       "3            0  \n",
       "4            0  "
      ]
     },
     "execution_count": 9,
     "metadata": {},
     "output_type": "execute_result"
    }
   ],
   "source": [
    "df.head()"
   ]
  },
  {
   "cell_type": "code",
   "execution_count": 20,
   "metadata": {},
   "outputs": [
    {
     "data": {
      "text/plain": [
       "[('Montgomery',),\n",
       " ('Wayne',),\n",
       " ('Albany',),\n",
       " ('Erie',),\n",
       " ('Orleans',),\n",
       " ('Orange',),\n",
       " ('Onondaga',),\n",
       " ('Chautauqua',),\n",
       " ('St. Lawrence',),\n",
       " ('Genesee',),\n",
       " ('Oneida',),\n",
       " ('Unassigned',),\n",
       " ('Nassau',),\n",
       " ('Otsego',),\n",
       " ('Warren',),\n",
       " ('Columbia',),\n",
       " ('Richmond',),\n",
       " ('Suffolk',),\n",
       " ('Chenango',),\n",
       " ('Franklin',),\n",
       " ('Kings',),\n",
       " ('Cayuga',),\n",
       " ('Delaware',),\n",
       " ('Ontario',),\n",
       " ('Oswego',),\n",
       " ('Dutchess',),\n",
       " ('Herkimer',),\n",
       " ('Saratoga',),\n",
       " ('Yates',),\n",
       " ('Madison',),\n",
       " ('Niagara',),\n",
       " ('Schenectady',),\n",
       " ('Lewis',),\n",
       " ('Fulton',),\n",
       " ('Jefferson',),\n",
       " ('New York',),\n",
       " ('Greene',),\n",
       " ('Queens',),\n",
       " ('Ulster',),\n",
       " ('Washington',),\n",
       " ('Cattaraugus',),\n",
       " ('Allegany',),\n",
       " ('Schoharie',),\n",
       " ('Monroe',),\n",
       " ('Wyoming',),\n",
       " ('Westchester',),\n",
       " ('Clinton',),\n",
       " ('Steuben',),\n",
       " ('Rockland',),\n",
       " ('Sullivan',),\n",
       " ('Bronx',),\n",
       " ('Broome',),\n",
       " ('Chemung',),\n",
       " ('Hamilton',),\n",
       " ('Livingston',),\n",
       " ('Putnam',),\n",
       " ('Seneca',),\n",
       " ('Out of NY',),\n",
       " ('Tioga',),\n",
       " ('Tompkins',),\n",
       " ('Rensselaer',),\n",
       " ('Schuyler',),\n",
       " ('Cortland',),\n",
       " ('Essex',)]"
      ]
     },
     "execution_count": 20,
     "metadata": {},
     "output_type": "execute_result"
    }
   ],
   "source": [
    "rows"
   ]
  },
  {
   "cell_type": "code",
   "execution_count": 14,
   "metadata": {},
   "outputs": [
    {
     "ename": "AttributeError",
     "evalue": "'psycopg2.extensions.cursor' object has no attribute 'rollback'",
     "output_type": "error",
     "traceback": [
      "\u001b[0;31m---------------------------------------------------------------------------\u001b[0m",
      "\u001b[0;31mAttributeError\u001b[0m                            Traceback (most recent call last)",
      "\u001b[0;32m<ipython-input-14-4d02832d6d14>\u001b[0m in \u001b[0;36m<module>\u001b[0;34m()\u001b[0m\n\u001b[0;32m----> 1\u001b[0;31m \u001b[0mcur\u001b[0m\u001b[0;34m.\u001b[0m\u001b[0mrollback\u001b[0m\u001b[0;34m(\u001b[0m\u001b[0;34m)\u001b[0m\u001b[0;34m\u001b[0m\u001b[0m\n\u001b[0m",
      "\u001b[0;31mAttributeError\u001b[0m: 'psycopg2.extensions.cursor' object has no attribute 'rollback'"
     ]
    }
   ],
   "source": [
    "cur.rollback()"
   ]
  },
  {
   "cell_type": "code",
   "execution_count": null,
   "metadata": {
    "collapsed": true
   },
   "outputs": [],
   "source": []
  }
 ],
 "metadata": {
  "kernelspec": {
   "display_name": "Python 3",
   "language": "python",
   "name": "python3"
  },
  "language_info": {
   "codemirror_mode": {
    "name": "ipython",
    "version": 3
   },
   "file_extension": ".py",
   "mimetype": "text/x-python",
   "name": "python",
   "nbconvert_exporter": "python",
   "pygments_lexer": "ipython3",
   "version": "3.6.3"
  }
 },
 "nbformat": 4,
 "nbformat_minor": 2
}
