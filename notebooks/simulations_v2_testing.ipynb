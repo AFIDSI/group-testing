{
 "cells": [
  {
   "cell_type": "code",
   "execution_count": 1,
   "metadata": {},
   "outputs": [],
   "source": [
    "import sys\n",
    "import os\n",
    "import numpy as np\n",
    "module_path = os.path.abspath(os.path.join('..'))\n",
    "if module_path not in sys.path:\n",
    "    sys.path.append(module_path + \"/src/simulations_v2\")\n",
    "\n",
    "from stochastic_simulation import StochasticSimulation\n",
    "from sir_stochastic_sim import SIRStochasticSimulation"
   ]
  },
  {
   "cell_type": "code",
   "execution_count": 2,
   "metadata": {},
   "outputs": [],
   "source": [
    "def sim_many_test_days(base_params, test_days, use_SIR_dynamics=False, time_horizon=250, only_bucket_test=True):\n",
    "    dfs_cts = {}\n",
    "    dfs_bucket = {}\n",
    "    base_params_cts = base_params.copy()\n",
    "    base_params_cts['days_between_tests'] = 1\n",
    "    \n",
    "    base_params_bucket = base_params.copy()\n",
    "    base_params_bucket['test_population_fraction'] = 1\n",
    "    \n",
    "    for T in test_days:\n",
    "        if not only_bucket_test:\n",
    "            base_params_cts['test_population_fraction'] = 1/T\n",
    "            if use_SIR_dynamics:\n",
    "                sim_cts = SIRStochasticSimulation(base_params_cts)\n",
    "            else:\n",
    "                sim_cts = StochasticSimulation(base_params_cts)\n",
    "            dfs_cts[T] = []\n",
    "            for _ in range(100):\n",
    "                dfs_cts[T].append(sim_cts.run_new_trajectory(time_horizon))\n",
    "        \n",
    "        base_params_bucket['days_between_tests'] = T\n",
    "        if use_SIR_dynamics:\n",
    "            sim_bucket = SIRStochasticSimulation(base_params_bucket)\n",
    "        else:\n",
    "            sim_bucket = StochasticSimulation(base_params_bucket)\n",
    "        dfs_bucket[T] = []\n",
    "        for _ in range(100):\n",
    "            dfs_bucket[T].append(sim_bucket.run_new_trajectory(time_horizon))\n",
    "        \n",
    "        print(\"Done test frequency {}\".format(T))\n",
    "    \n",
    "    return dfs_cts, dfs_bucket"
   ]
  },
  {
   "cell_type": "code",
   "execution_count": 43,
   "metadata": {},
   "outputs": [],
   "source": [
    "import matplotlib.pyplot as plt\n",
    "%matplotlib inline\n",
    "\n",
    "plt.rcParams['font.size'] = 12\n",
    "\n",
    "def add_plot(df, params, color='blue', ID_only=False):\n",
    "    if ID_only:\n",
    "        cols = ['ID_{}'.format(x) for x in range(params['max_time_ID'])]\n",
    "    else:\n",
    "        cols = ['ID_{}'.format(x) for x in range(params['max_time_ID'])] + \\\n",
    "                ['pre_ID_{}'.format(x) for x in range(params['max_time_pre_ID'])] + \\\n",
    "                ['SyID_mild_{}'.format(x) for x in range(params['max_time_SyID_mild'])] + \\\n",
    "                ['SyID_severe_{}'.format(x) for x in range(params['max_time_SyID_severe'])] + \\\n",
    "                ['E_{}'.format(x) for x in range(params['max_time_exposed'])] + ['R']\n",
    "    plt.plot(df[cols].sum(axis=1), linewidth=10.0, alpha=0.1, color=color)    \n",
    "\n",
    "\n",
    "# just need params to get the proper column names\n",
    "def plot_sims(dfs1, dfs2, title1, title2, params, ID_only=False):\n",
    "    plt.figure(figsize=(20,12))\n",
    "\n",
    "    plt.subplot(2,1,1)\n",
    "    \n",
    "    plt.xlabel(\"Day\")\n",
    "    plt.ylabel(\"Number of Active Infections\")\n",
    "    plt.title(title1)\n",
    "\n",
    "    for df in dfs1:\n",
    "        add_plot(df, params, ID_only=ID_only)\n",
    "\n",
    "    plt.subplot(2,1,2)\n",
    "    plt.xlabel(\"Day\")\n",
    "    plt.ylabel(\"Number of Active Infections\")\n",
    "    plt.title(title2)\n",
    "    for df in dfs2:\n",
    "        add_plot(df, params, color='green', ID_only=ID_only)\n",
    "\n",
    "    plt.show()\n",
    "\n",
    "def plot_many_sims(dfs_cts, dfs_bucket, params, ID_only):\n",
    "    for test_frequency in dfs_cts.keys():\n",
    "        df_cts = dfs_cts[test_frequency]\n",
    "        df_bucket = dfs_bucket[test_frequency]\n",
    "        title_cts = \"Trajectory Under Continuous Testing: Test 1/{} Population Every Day\".format(test_frequency)\n",
    "        title_bucket = \"Trajectory Under Bucket Testing: Test Everyone Every {} Days\".format(test_frequency)\n",
    "        plot_sims(df_cts, df_bucket, title_cts, title_bucket, params, ID_only)"
   ]
  },
  {
   "cell_type": "code",
   "execution_count": 35,
   "metadata": {},
   "outputs": [],
   "source": [
    "import numpy as np\n",
    "from scipy.stats import geom, poisson\n",
    "\n",
    "import functools\n",
    "\n",
    "@functools.lru_cache(maxsize=128)\n",
    "def poisson_pmf(max_time, mean_time):\n",
    "    pmf = list()\n",
    "    for i in range(1, max_time):\n",
    "        pmf.append(poisson.pmf(i, mean_time))\n",
    "    pmf.append(1-np.sum(pmf))\n",
    "    return np.array(pmf)\n",
    "\n"
   ]
  },
  {
   "cell_type": "code",
   "execution_count": 47,
   "metadata": {},
   "outputs": [],
   "source": [
    "# Set parameters (no CT, testing)\n",
    "base_params = {\n",
    "    'max_time_exposed': 4,\n",
    "    'exposed_time_function': (lambda n: np.random.multinomial(n, poisson_pmf(max_time=4+1, mean_time=2))),\n",
    "    \n",
    "    'max_time_pre_ID': 4,\n",
    "    'pre_ID_time_function': (lambda n: np.random.multinomial(n, poisson_pmf(max_time=4+1, mean_time=0))),\n",
    "    \n",
    "    'max_time_ID': 8,\n",
    "    'ID_time_function': (lambda n: np.random.multinomial(n, poisson_pmf(max_time=8+1, mean_time=4))),\n",
    "    \n",
    "    'max_time_SyID_mild': 14,\n",
    "    'SyID_mild_time_function': (lambda n: np.random.multinomial(n, poisson_pmf(max_time=14+1, mean_time=10))),\n",
    "    \n",
    "    'max_time_SyID_severe': 14,\n",
    "    'SyID_severe_time_function': (lambda n: np.random.multinomial(n, poisson_pmf(max_time=14+1, mean_time=10))),\n",
    "    \n",
    "    'sample_QI_exit_function': (lambda n: np.random.binomial(n, 0.05)),\n",
    "    'sample_QS_exit_function': (lambda n: np.random.binomial(n, 0.3)),\n",
    "    \n",
    "    'exposed_infection_p': 0.026,\n",
    "    'expected_contacts_per_day': 10,\n",
    "    \n",
    "    'mild_symptoms_p': 0.4,\n",
    "    'mild_symptoms_daily_self_report_p': 0.15,\n",
    "    'severe_symptoms_daily_self_report_p': 0.85,\n",
    "    \n",
    "    'days_between_tests': 10,\n",
    "    'test_population_fraction': 1/10,\n",
    "    \n",
    "    'test_protocol_QFNR': 0.1,\n",
    "    'test_protocol_QFPR': 0.005,\n",
    "    \n",
    "    'perform_contact_tracing': False,\n",
    "    'contact_tracing_constant': 0.7,\n",
    "    'contact_tracing_delay': 1,\n",
    "    \n",
    "    'pre_ID_state': 'detectable',\n",
    "    \n",
    "    'population_size': 200000,\n",
    "    'initial_E_count': 0,\n",
    "    'initial_pre_ID_count': 200,\n",
    "    'initial_ID_count': 0,\n",
    "    'initial_SyID_mild_count': 0,\n",
    "    'initial_SyID_severe_count': 0\n",
    "}\n"
   ]
  },
  {
   "cell_type": "code",
   "execution_count": 48,
   "metadata": {},
   "outputs": [],
   "source": [
    "# Calculate expected R0\n",
    "avg_days_I_pre_symp = 4\n",
    "avg_days_I_mild = 1/0.1\n",
    "avg_days_I_severe = 1/0.85\n",
    "p_mild = 0.4\n",
    "avg_days_I_free = avg_days_I_pre_symp + (p_mild * avg_days_I_mild) + (1 - p_mild) * avg_days_I_severe\n",
    "R0 = avg_days_I_free * 10 * 0.026"
   ]
  },
  {
   "cell_type": "code",
   "execution_count": 49,
   "metadata": {},
   "outputs": [
    {
     "name": "stdout",
     "output_type": "stream",
     "text": [
      "Done test frequency 300\n"
     ]
    }
   ],
   "source": [
    "# Simulate\n",
    "sim = StochasticSimulation(base_params)\n",
    "dfs_cts_seir_8_trace, dfs_bucket_seir_8_trace = sim_many_test_days(base_params=base_params, \n",
    "                                                       test_days=[300], \n",
    "                                                       use_SIR_dynamics=False, time_horizon=50, only_bucket_test=True)"
   ]
  },
  {
   "cell_type": "code",
   "execution_count": 55,
   "metadata": {},
   "outputs": [
    {
     "data": {
      "text/plain": [
       "'\\ntime = list()\\ncount = list()\\ntime.append(0)\\ncount.append(200)\\ntime_now = 0\\nwhile(time_now < 50):\\n    time_now += avg_days_I_free + 4\\n    time.append(time_now)\\n    count.append(min(count[-1]*(R0+1),200000))\\n'"
      ]
     },
     "execution_count": 55,
     "metadata": {},
     "output_type": "execute_result"
    }
   ],
   "source": [
    "# Fine expected trajectory given R0 (how to do this? - average serial period?)\n",
    "\n",
    "alpha = np.exp((R0 - 1)/(avg_days_I_free))\n",
    "time = list()\n",
    "count = list()\n",
    "time.append(0)\n",
    "count.append(200)\n",
    "for t in range(1, 50+1):\n",
    "    time.append(t)\n",
    "    count.append(count[0]*(alpha**t))\n",
    "\n",
    "# Old way\n",
    "'''\n",
    "time = list()\n",
    "count = list()\n",
    "time.append(0)\n",
    "count.append(200)\n",
    "time_now = 0\n",
    "while(time_now < 50):\n",
    "    time_now += avg_days_I_free + 4\n",
    "    time.append(time_now)\n",
    "    count.append(min(count[-1]*(R0+1),200000))\n",
    "'''\n",
    "# Expected time between infections = avg_days_I_free / 2"
   ]
  },
  {
   "cell_type": "code",
   "execution_count": 56,
   "metadata": {},
   "outputs": [
    {
     "data": {
      "image/png": "[encoded data removed]",
      "text/plain": [
       "<Figure size 1440x864 with 1 Axes>"
      ]
     },
     "metadata": {
      "needs_background": "light"
     },
     "output_type": "display_data"
    }
   ],
   "source": [
    "import matplotlib.pyplot as plt\n",
    "# Plotting\n",
    "plt.figure(figsize=(20,12))\n",
    "plt.xlabel(\"Day\")\n",
    "plt.ylabel(\"Number of Active Infections\")\n",
    "plt.title('Stochastic Simulation (no intervention) vs. expected growth')\n",
    "\n",
    "dfs1 = dfs_bucket_seir_8_trace[300]\n",
    "\n",
    "for df in dfs1:\n",
    "    add_plot(df, base_params, ID_only=False)\n",
    "plt.plot(time, count, 'o', color='red');"
   ]
  },
  {
   "cell_type": "code",
   "execution_count": 33,
   "metadata": {},
   "outputs": [
    {
     "name": "stdout",
     "output_type": "stream",
     "text": [
      "2.2635294117647056\n"
     ]
    }
   ],
   "source": [
    "print(R0)"
   ]
  }
 ],
 "metadata": {
  "kernelspec": {
   "display_name": "Python 3",
   "language": "python",
   "name": "python3"
  },
  "language_info": {
   "codemirror_mode": {
    "name": "ipython",
    "version": 3
   },
   "file_extension": ".py",
   "mimetype": "text/x-python",
   "name": "python",
   "nbconvert_exporter": "python",
   "pygments_lexer": "ipython3",
   "version": "3.7.3"
  }
 },
 "nbformat": 4,
 "nbformat_minor": 2
}
