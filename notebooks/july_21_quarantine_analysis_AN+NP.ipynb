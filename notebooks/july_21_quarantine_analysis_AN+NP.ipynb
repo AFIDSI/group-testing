{
 "cells": [
  {
   "cell_type": "code",
   "execution_count": 1,
   "metadata": {},
   "outputs": [],
   "source": [
    "import pandas as pd\n",
    "import numpy as np\n",
    "import matplotlib.pyplot as plt\n",
    "import glob\n",
    "import os"
   ]
  },
  {
   "cell_type": "code",
   "execution_count": 2,
   "metadata": {},
   "outputs": [],
   "source": [
    "scenarios = ['2-100', '2-50', '2-0', '4-100', '4-50', '4-0']\n",
    "dirs = ['/nfs01/covid_sims//1595385067.278819-asymptomatic_daily_self_report_p', \n",
    "        '/nfs01/covid_sims//1595385107.0044565-asymptomatic_daily_self_report_p',\n",
    "        '/nfs01/covid_sims//1595385148.8838353-asymptomatic_daily_self_report_p',\n",
    "        '/nfs01/covid_sims//1595385198.1382878-asymptomatic_daily_self_report_p',\n",
    "        '/nfs01/covid_sims//1595385241.1045427-asymptomatic_daily_self_report_p',\n",
    "        '/nfs01/covid_sims//1595385294.8416717-asymptomatic_daily_self_report_p']"
   ]
  },
  {
   "cell_type": "code",
   "execution_count": 3,
   "metadata": {},
   "outputs": [
    {
     "name": "stdout",
     "output_type": "stream",
     "text": [
      "QI Avg = 199.8, QS Avg = 575.09, for scenario = 2-100\n",
      "QI Avg = 220.29, QS Avg = 613.52, for scenario = 2-50\n",
      "QI Avg = 234.39, QS Avg = 647.73, for scenario = 2-0\n",
      "QI Avg = 200.19, QS Avg = 573.48, for scenario = 4-100\n",
      "QI Avg = 235.27, QS Avg = 651.2, for scenario = 4-50\n",
      "QI Avg = 268.21, QS Avg = 728.73, for scenario = 4-0\n"
     ]
    }
   ],
   "source": [
    "for j, PATH in enumerate(dirs):\n",
    "    os.chdir(PATH)\n",
    "    results = glob.glob('**/simulation-0/*.csv', recursive=True) # simulatino-0 corresponds to daily testing frac = 0.2\n",
    "    #print(len(results))\n",
    "    n_trajectories = len(results)\n",
    "    cum_QI = np.zeros(n_trajectories)\n",
    "    cum_QS = np.zeros(n_trajectories)\n",
    "    for i, res in enumerate(results):\n",
    "        df = pd.read_csv(res)\n",
    "        cum_QI[i] = df['QI'].iloc[-1]\n",
    "        cum_QS[i] = df['QS'].iloc[-1]\n",
    "\n",
    "    avg_cum_QI = np.mean(cum_QI)\n",
    "    avg_cum_QS = np.mean(cum_QS)\n",
    "    print('QI Avg = {}, QS Avg = {}, for scenario = {}'.format(avg_cum_QI, avg_cum_QS, scenarios[j]))\n",
    "    "
   ]
  },
  {
   "cell_type": "code",
   "execution_count": null,
   "metadata": {},
   "outputs": [],
   "source": []
  }
 ],
 "metadata": {
  "kernelspec": {
   "display_name": "Python 3",
   "language": "python",
   "name": "python3"
  },
  "language_info": {
   "codemirror_mode": {
    "name": "ipython",
    "version": 3
   },
   "file_extension": ".py",
   "mimetype": "text/x-python",
   "name": "python",
   "nbconvert_exporter": "python",
   "pygments_lexer": "ipython3",
   "version": "3.7.6"
  }
 },
 "nbformat": 4,
 "nbformat_minor": 4
}
