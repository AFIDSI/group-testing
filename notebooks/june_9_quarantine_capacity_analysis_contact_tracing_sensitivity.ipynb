{
 "cells": [
  {
   "cell_type": "code",
   "execution_count": 1,
   "metadata": {
    "collapsed": true
   },
   "outputs": [],
   "source": [
    "import pandas as pd\n",
    "import numpy as np\n",
    "import matplotlib.pyplot as plt\n",
    "import glob\n",
    "import os"
   ]
  },
  {
   "cell_type": "code",
   "execution_count": 5,
   "metadata": {
    "collapsed": true
   },
   "outputs": [],
   "source": [
    "num_traces = [7, 11, 15, 20]\n",
    "dirs = ['/nfs01/covid_sims/1591727885.865092-asymptomatic_daily_self_report_p', \n",
    "        '/nfs01/covid_sims/1591726719.8897061-asymptomatic_daily_self_report_p',\n",
    "        '/nfs01/covid_sims/1591726898.429054-asymptomatic_daily_self_report_p',\n",
    "        '/nfs01/covid_sims/1591727104.4485695-asymptomatic_daily_self_report_p']"
   ]
  },
  {
   "cell_type": "code",
   "execution_count": 10,
   "metadata": {},
   "outputs": [
    {
     "name": "stdout",
     "output_type": "stream",
     "text": [
      "QI Avg = 172.264, QS Avg = 496.35, for number of contact traces = 7\n",
      "QI Avg = 170.994, QS Avg = 742.002, for number of contact traces = 11\n",
      "QI Avg = 171.346, QS Avg = 990.354, for number of contact traces = 15\n",
      "QI Avg = 170.654, QS Avg = 1297.184, for number of contact traces = 20\n"
     ]
    }
   ],
   "source": [
    "for j, PATH in enumerate(dirs):\n",
    "    os.chdir(PATH)\n",
    "    results = glob.glob('**/*.csv', recursive=True)\n",
    "    n_trajectories = len(results)\n",
    "    cum_QI = np.zeros(n_trajectories)\n",
    "    cum_QS = np.zeros(n_trajectories)\n",
    "    for i, res in enumerate(results):\n",
    "        df = pd.read_csv(res)\n",
    "        cum_QI[i] = df['QI'].iloc[-1]\n",
    "        cum_QS[i] = df['QS'].iloc[-1]\n",
    "    \n",
    "    avg_cum_QI = np.mean(cum_QI)\n",
    "    avg_cum_QS = np.mean(cum_QS)\n",
    "    print('QI Avg = {}, QS Avg = {}, for number of contact traces = {}'.format(avg_cum_QI, avg_cum_QS, num_traces[j]))\n",
    "    "
   ]
  },
  {
   "cell_type": "code",
   "execution_count": null,
   "metadata": {
    "collapsed": true
   },
   "outputs": [],
   "source": []
  }
 ],
 "metadata": {
  "kernelspec": {
   "display_name": "Python 3",
   "language": "python",
   "name": "python3"
  },
  "language_info": {
   "codemirror_mode": {
    "name": "ipython",
    "version": 3
   },
   "file_extension": ".py",
   "mimetype": "text/x-python",
   "name": "python",
   "nbconvert_exporter": "python",
   "pygments_lexer": "ipython3",
   "version": "3.6.3"
  }
 },
 "nbformat": 4,
 "nbformat_minor": 4
}
