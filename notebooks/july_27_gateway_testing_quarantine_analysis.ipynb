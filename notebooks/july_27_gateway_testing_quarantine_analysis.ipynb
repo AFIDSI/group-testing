{
 "cells": [
  {
   "cell_type": "code",
   "execution_count": 1,
   "metadata": {},
   "outputs": [],
   "source": [
    "import sys\n",
    "import os\n",
    "import numpy as np\n",
    "module_path = os.path.abspath(os.path.join('..'))\n",
    "if module_path not in sys.path:\n",
    "    sys.path.append(module_path + \"/src/simulations_v2\")\n",
    "from load_params import load_params\n",
    "from stochastic_simulation import StochasticSimulation"
   ]
  },
  {
   "cell_type": "code",
   "execution_count": 3,
   "metadata": {},
   "outputs": [
    {
     "name": "stderr",
     "output_type": "stream",
     "text": [
      "/home/jw2529/group-testing/src/simulations_v2/load_params.py:136: YAMLLoadWarning: calling yaml.load() without Loader=... is deprecated, as the default Loader is unsafe. Please read https://msg.pyyaml.org/load for full details.\n",
      "  params = yaml.load(f)\n",
      "/home/jw2529/group-testing/src/simulations_v2/load_params.py:45: YAMLLoadWarning: calling yaml.load() without Loader=... is deprecated, as the default Loader is unsafe. Please read https://msg.pyyaml.org/load for full details.\n",
      "  age_sev_params = yaml.load(f)\n"
     ]
    },
    {
     "name": "stdout",
     "output_type": "stream",
     "text": [
      "For Option 1, QS = 607.148, QI = 226.568, free = 30.504\n",
      "For Option 2, QS = 847.172, QI = 326.396, free = 67.18\n",
      "For Option 3, QS = 717.368, QI = 269.16, free = 63.656\n",
      "For Option 4, QS = 707.764, QI = 264.952, free = 62.784\n"
     ]
    }
   ],
   "source": [
    "for j in [1,2,3,4]:\n",
    "    scenario_name, params = \\\n",
    "        load_params(\"../src/simulations_v2/params/quarantine_analysis/july27quarantine/fall_reopen_july27_quarantine_option_{}.yaml\".format(j))\n",
    "\n",
    "    sim = StochasticSimulation(params)\n",
    "    \n",
    "    num_trajectories = 250\n",
    "    QS_list = np.zeros(num_trajectories)\n",
    "    QI_list = np.zeros(num_trajectories)\n",
    "    free_list = np.zeros(num_trajectories)\n",
    "    \n",
    "    for i in range(num_trajectories):\n",
    "        sim.reset_initial_state()\n",
    "        for _ in range(18):\n",
    "            sim.step()\n",
    "        \n",
    "        if sim.pre_ID_state == 'infectious':\n",
    "            free_infectious = sum(sim.pre_ID)\n",
    "        else:\n",
    "            free_infectious = 0\n",
    "\n",
    "        free_infectious += sum(sim.ID)\n",
    "        free_infectious += sum(sim.SyID_mild)\n",
    "        free_infectious += sum(sim.SyID_severe)\n",
    "        \n",
    "        QS_list[i] = sim.QS\n",
    "        QI_list[i] = sim.QI\n",
    "        free_list[i] = free_infectious\n",
    "    \n",
    "    print(\"For Option {}, QS = {}, QI = {}, free = {}\".format(j, np.mean(QS_list), np.mean(QI_list), np.mean(free_list)))"
   ]
  },
  {
   "cell_type": "code",
   "execution_count": null,
   "metadata": {},
   "outputs": [],
   "source": []
  }
 ],
 "metadata": {
  "kernelspec": {
   "display_name": "Python 3",
   "language": "python",
   "name": "python3"
  },
  "language_info": {
   "codemirror_mode": {
    "name": "ipython",
    "version": 3
   },
   "file_extension": ".py",
   "mimetype": "text/x-python",
   "name": "python",
   "nbconvert_exporter": "python",
   "pygments_lexer": "ipython3",
   "version": "3.7.6"
  }
 },
 "nbformat": 4,
 "nbformat_minor": 2
}
