{
 "cells": [
  {
   "cell_type": "code",
   "execution_count": 1,
   "metadata": {},
   "outputs": [],
   "source": [
    "import sys\n",
    "import os\n",
    "import numpy as np\n",
    "import pandas as pd\n",
    "module_path = os.path.abspath(os.path.join('..'))\n",
    "if module_path not in sys.path:\n",
    "    sys.path.append(module_path + \"/src/simulations_v2\")\n",
    "\n",
    "    \n",
    "from stochastic_simulation import *\n",
    "from june_realistic import base_params\n",
    "import matplotlib.pyplot as plt"
   ]
  },
  {
   "cell_type": "code",
   "execution_count": 2,
   "metadata": {},
   "outputs": [],
   "source": [
    "# Make plots of 90% quantile of number of people in QI or QS vs. days of simulation\n",
    "# Using june_realistic parameters \n",
    "# test_days = [300]\n",
    "# time_horizon = 250"
   ]
  },
  {
   "cell_type": "code",
   "execution_count": 3,
   "metadata": {},
   "outputs": [],
   "source": [
    "def sim_many_test_days(base_params, test_days, use_SIR_dynamics=False, time_horizon=250, only_bucket_test=True):\n",
    "    dfs_cts = {}\n",
    "    dfs_bucket = {}\n",
    "    base_params_cts = base_params.copy()\n",
    "    base_params_cts['days_between_tests'] = 1\n",
    "    \n",
    "    base_params_bucket = base_params.copy()\n",
    "    base_params_bucket['test_population_fraction'] = 1\n",
    "    \n",
    "    for T in test_days:\n",
    "        if not only_bucket_test:\n",
    "            base_params_cts['test_population_fraction'] = 1/T\n",
    "            if use_SIR_dynamics:\n",
    "                sim_cts = SIRStochasticSimulation(base_params_cts)\n",
    "            else:\n",
    "                sim_cts = StochasticSimulation(base_params_cts)\n",
    "            dfs_cts[T] = []\n",
    "            for _ in range(100):\n",
    "                dfs_cts[T].append(sim_cts.run_new_trajectory(time_horizon))\n",
    "        \n",
    "        base_params_bucket['days_between_tests'] = T\n",
    "        if use_SIR_dynamics:\n",
    "            sim_bucket = SIRStochasticSimulation(base_params_bucket)\n",
    "        else:\n",
    "            sim_bucket = StochasticSimulation(base_params_bucket)\n",
    "        dfs_bucket[T] = []\n",
    "        for _ in range(100):\n",
    "            dfs_bucket[T].append(sim_bucket.run_new_trajectory(time_horizon))\n",
    "        \n",
    "        print(\"Done test frequency {}\".format(T))\n",
    "    \n",
    "    return dfs_cts, dfs_bucket"
   ]
  },
  {
   "cell_type": "code",
   "execution_count": 4,
   "metadata": {},
   "outputs": [
    {
     "name": "stdout",
     "output_type": "stream",
     "text": [
      "Done test frequency 300\n"
     ]
    }
   ],
   "source": [
    "cts, bucket = sim_many_test_days(base_params=base_params, \n",
    "                   test_days=[300], use_SIR_dynamics=False, time_horizon=250, only_bucket_test=True)\n"
   ]
  },
  {
   "cell_type": "code",
   "execution_count": 7,
   "metadata": {},
   "outputs": [],
   "source": [
    "QS_df = bucket[300][0]['QS']\n",
    "QI_df = bucket[300][0]['QI']\n",
    "\n",
    "Qtotal_df = QS_df.add(QI_df, fill_value=0)\n",
    "\n",
    "for i in range(1,100):\n",
    "    new_QS = bucket[300][i]['QS']\n",
    "    new_QI = bucket[300][i]['QI']\n",
    "    new_Qtotal = new_QS.add(new_QI, fill_value=0)\n",
    "    \n",
    "    QS_df = pd.concat([QS_df, new_QS], axis=1, sort=False)\n",
    "    QI_df = pd.concat([QI_df, new_QI], axis=1, sort=False)\n",
    "    Qtotal_df = pd.concat([Qtotal_df, new_Qtotal], axis=1, sort=False)\n",
    "\n",
    "# pd.quantile not working here     \n",
    "QS_quan = QS_df.T.quantile(.9)\n",
    "QI_quan = QI_df.T.quantile(.9)\n",
    "Qtotal_quan = Qtotal_df.T.quantile(.9)\n"
   ]
  },
  {
   "cell_type": "code",
   "execution_count": 8,
   "metadata": {},
   "outputs": [
    {
     "data": {
      "text/plain": [
       "<matplotlib.legend.Legend at 0x7f581e78c490>"
      ]
     },
     "execution_count": 8,
     "metadata": {},
     "output_type": "execute_result"
    },
    {
     "data": {
      "image/png": "[encoded data removed]",
      "text/plain": [
       "<Figure size 432x288 with 1 Axes>"
      ]
     },
     "metadata": {
      "needs_background": "light"
     },
     "output_type": "display_data"
    }
   ],
   "source": [
    "fig, ax = plt.subplots()\n",
    "ax.plot(QS_quan, label='90 quantile QS')\n",
    "ax.plot(QI_quan, label='90 quantile QI')\n",
    "ax.plot(Qtotal_quan, label='90 quantile Qtotal')\n",
    "fig.suptitle('june_realistic, 250-day trajectory')\n",
    "ax.legend()"
   ]
  },
  {
   "cell_type": "code",
   "execution_count": null,
   "metadata": {},
   "outputs": [],
   "source": []
  }
 ],
 "metadata": {
  "kernelspec": {
   "display_name": "Python 3",
   "language": "python",
   "name": "python3"
  },
  "language_info": {
   "codemirror_mode": {
    "name": "ipython",
    "version": 3
   },
   "file_extension": ".py",
   "mimetype": "text/x-python",
   "name": "python",
   "nbconvert_exporter": "python",
   "pygments_lexer": "ipython3",
   "version": "3.7.6"
  }
 },
 "nbformat": 4,
 "nbformat_minor": 4
}
