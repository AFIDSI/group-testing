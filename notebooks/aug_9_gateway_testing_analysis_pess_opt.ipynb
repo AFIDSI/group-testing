{
 "cells": [
  {
   "cell_type": "code",
   "execution_count": 1,
   "metadata": {},
   "outputs": [],
   "source": [
    "import sys\n",
    "import os\n",
    "import numpy as np\n",
    "module_path = os.path.abspath(os.path.join('..'))\n",
    "if module_path not in sys.path:\n",
    "    sys.path.append(module_path + \"/src/simulations_v2\")\n",
    "from load_params import load_multigroup_params, load_params\n",
    "from multi_group_simulation import MultiGroupSimulation"
   ]
  },
  {
   "cell_type": "code",
   "execution_count": 3,
   "metadata": {},
   "outputs": [
    {
     "name": "stdout",
     "output_type": "stream",
     "text": [
      "Pessimistic: \n",
      "free-and-infectious:  [30.45  33.76   7.965  8.84  10.925  2.03   5.185 35.575]\n",
      "prevalence: [0.00730742 0.00442058 0.0027513  0.00226203 0.00303641 0.0010645\n",
      " 0.00108518 0.00057379]\n",
      "QS:  [174.655 260.38   53.82   87.525  81.585  19.98   48.555 536.385]\n",
      "QI:  [ 53.425  76.43   14.515  26.345  24.17    5.12    8.21  105.675]\n"
     ]
    }
   ],
   "source": [
    "num_trajectories = 200\n",
    "\n",
    "interaction_matrix = np.array([[12.5,4,0.1,0.1,1,0.05,0.05,0.1],\n",
    "                               [3.41,8,0.1,0.1,1,0.05,0.05,0.2],\n",
    "                               [0.19,0.22,4,0.1,1.2,0.05,0.2,1.8],\n",
    "                               [0.14,0.17,0.07,9,1,0.05,0.05,0.2],\n",
    "                               [1.92,2.26,1.22,1.37,1,0.15,0.3,1.56],\n",
    "                               [0.18,0.21,0.1,0.13,0.28,1.8,0.2,1.56],\n",
    "                               [0.07,0.09,0.15,0.05,0.23,0.08,1.8,1.56],\n",
    "                               [0.011,0.026,0.106,0.016,0.091,0.048,0.12,3.5]])\n",
    "\n",
    "interaction_matrix = 1.3 * interaction_matrix\n",
    "\n",
    "group_names = ['UG (campus)', 'UG (off campus)', 'GS (research)', 'GS (other)', 'Faculty/Staff (student facing)', 'Faculty/Staff (non student facing)', 'Faculty/Staff (off campus)', 'Ithaca Community']\n",
    "\n",
    "\n",
    "num_groups = len(group_names)\n",
    "free_and_infectious_pess = np.zeros((num_trajectories, num_groups))\n",
    "QS_pess = np.zeros((num_trajectories, num_groups))\n",
    "QI_pess = np.zeros((num_trajectories, num_groups))\n",
    "    \n",
    "ug_dorm_params = load_params('../src/simulations_v2/params/quarantine_analysis/aug9quarantine/move_in_weekend/pessimistic/ug_dorm.yaml')[1]\n",
    "ug_off_campus_params = load_params('../src/simulations_v2/params/quarantine_analysis/aug9quarantine/move_in_weekend/pessimistic/ug_off_campus.yaml')[1]\n",
    "gs_research_params = load_params('../src/simulations_v2/params/quarantine_analysis/aug9quarantine/move_in_weekend/pessimistic/grad_research.yaml')[1]\n",
    "gs_other_params = load_params('../src/simulations_v2/params/quarantine_analysis/aug9quarantine/move_in_weekend/pessimistic/grad_other.yaml')[1]\n",
    "faculty_staff_student_params = load_params('../src/simulations_v2/params/quarantine_analysis/aug9quarantine/move_in_weekend/pessimistic/faculty_staff_student_same_age.yaml')[1]\n",
    "faculty_staff_non_student_params = load_params('../src/simulations_v2/params/quarantine_analysis/aug9quarantine/move_in_weekend/pessimistic/faculty_staff_non_student_same_age.yaml')[1]\n",
    "faculty_staff_off_campus_params = load_params('../src/simulations_v2/params/quarantine_analysis/aug9quarantine/move_in_weekend/pessimistic/faculty_staff_off_campus_same_age.yaml')[1]\n",
    "ithaca_community_params = load_params('../src/simulations_v2/params/quarantine_analysis/aug9quarantine/move_in_weekend/pessimistic/ithaca_community.yaml')[1]\n",
    "\n",
    "params_list = [ug_dorm_params.copy(), ug_off_campus_params.copy(), gs_research_params.copy(), gs_other_params.copy(), faculty_staff_student_params.copy(), faculty_staff_non_student_params.copy(), faculty_staff_off_campus_params.copy(), ithaca_community_params.copy()]\n",
    "\n",
    "for index, params in enumerate(params_list):\n",
    "    params['expected_contacts_per_day'] = interaction_matrix[index, index]\n",
    "\n",
    "sim = MultiGroupSimulation(params_list, interaction_matrix, group_names)\n",
    "    \n",
    "for i in range(num_trajectories):\n",
    "    sim.reset_initial_state()\n",
    "    for _ in range(18):\n",
    "        sim.step()\n",
    "\n",
    "    for j in range(num_groups):\n",
    "        free_and_infectious_pess[i, j] = sim.get_free_infectious(j)\n",
    "        QS_pess[i, j] = sim.sims[j].QS\n",
    "        QI_pess[i, j] = sim.sims[j].QI\n",
    "\n",
    "print(\"Pessimistic: \")\n",
    "print(\"free-and-infectious: \", np.mean(free_and_infectious_pess, axis=0))\n",
    "\n",
    "populations = [sim.sims[j].pop_size for j in range(num_groups)]\n",
    "print(\"prevalence:\", np.mean(free_and_infectious_pess, axis=0) / populations)\n",
    "print(\"QS: \", np.mean(QS_pess, axis=0))\n",
    "print(\"QI: \", np.mean(QI_pess, axis=0))"
   ]
  },
  {
   "cell_type": "code",
   "execution_count": 4,
   "metadata": {},
   "outputs": [
    {
     "name": "stdout",
     "output_type": "stream",
     "text": [
      "99.155\n",
      "208.215\n",
      "726.5\n"
     ]
    }
   ],
   "source": [
    "# statistics within Cornell (including students, faculty / staff)\n",
    "print(np.sum(np.mean(free_and_infectious_pess[:, :7], axis=0)))\n",
    "print(np.sum(np.mean(QI_pess[:, :7], axis=0)))\n",
    "print(np.sum(np.mean(QS_pess[:, :7], axis=0)))"
   ]
  },
  {
   "cell_type": "code",
   "execution_count": 6,
   "metadata": {},
   "outputs": [
    {
     "name": "stdout",
     "output_type": "stream",
     "text": [
      "170.715\n",
      "576.38\n"
     ]
    }
   ],
   "source": [
    "# quarantine/isolation statistics of students\n",
    "print(np.sum(np.mean(QI_pess[:, :4], axis=0)))\n",
    "print(np.sum(np.mean(QS_pess[:, :4], axis=0)))"
   ]
  },
  {
   "cell_type": "code",
   "execution_count": 17,
   "metadata": {},
   "outputs": [
    {
     "name": "stdout",
     "output_type": "stream",
     "text": [
      "234.1\n",
      "801.9\n"
     ]
    }
   ],
   "source": [
    "print(np.sum(np.percentile(QI_pess[:, :4], 90, axis=0)))\n",
    "print(np.sum(np.percentile(QS_pess[:, :4], 90, axis=0)))"
   ]
  },
  {
   "cell_type": "code",
   "execution_count": 7,
   "metadata": {},
   "outputs": [
    {
     "name": "stdout",
     "output_type": "stream",
     "text": [
      "53.425\n",
      "174.655\n"
     ]
    }
   ],
   "source": [
    "# quarantine/isolation statistics of on-campus students\n",
    "print(np.sum(np.mean(QI_pess[:, 0], axis=0)))\n",
    "print(np.sum(np.mean(QS_pess[:, 0], axis=0)))"
   ]
  },
  {
   "cell_type": "code",
   "execution_count": 19,
   "metadata": {},
   "outputs": [
    {
     "name": "stdout",
     "output_type": "stream",
     "text": [
      "78.0\n",
      "261.0\n"
     ]
    }
   ],
   "source": [
    "print(np.sum(np.percentile(QI_pess[:, 0], 90, axis=0)))\n",
    "print(np.sum(np.percentile(QS_pess[:, 0], 90, axis=0)))"
   ]
  },
  {
   "cell_type": "code",
   "execution_count": 8,
   "metadata": {},
   "outputs": [
    {
     "name": "stdout",
     "output_type": "stream",
     "text": [
      "117.29\n",
      "401.725\n"
     ]
    }
   ],
   "source": [
    "# quarantine/isolation statistics of off-campus students\n",
    "print(np.sum(np.mean(QI_pess[:, 1:4], axis=0)))\n",
    "print(np.sum(np.mean(QS_pess[:, 1:4], axis=0)))\n"
   ]
  },
  {
   "cell_type": "code",
   "execution_count": 20,
   "metadata": {},
   "outputs": [
    {
     "name": "stdout",
     "output_type": "stream",
     "text": [
      "156.1\n",
      "540.9\n"
     ]
    }
   ],
   "source": [
    "print(np.sum(np.percentile(QI_pess[:, 1:4], 90, axis=0)))\n",
    "print(np.sum(np.percentile(QS_pess[:, 1:4], 90, axis=0)))"
   ]
  },
  {
   "cell_type": "code",
   "execution_count": 9,
   "metadata": {},
   "outputs": [],
   "source": [
    "np.savetxt('/home/jw2529/results/free_and_infectious_pessimistic.out', free_and_infectious_pess)\n",
    "np.savetxt('/home/jw2529/results/QI_pessimistic.out', QI_pess)\n",
    "np.savetxt('/home/jw2529/results/QS_pessimistic.out', QS_pess)"
   ]
  },
  {
   "cell_type": "code",
   "execution_count": 10,
   "metadata": {},
   "outputs": [
    {
     "name": "stdout",
     "output_type": "stream",
     "text": [
      "Optimistic: \n",
      "free-and-infectious:  [ 2.755  3.08   1.36   1.105  1.2    0.41   1.53  13.17 ]\n",
      "prevalence: [0.00066115 0.0004033  0.00046978 0.00028275 0.00033352 0.000215\n",
      " 0.00032022 0.00021242]\n",
      "QS:  [14.31  21.84   4.785  8.745  5.625  2.625  7.62  80.295]\n",
      "QI:  [15.16  20.91   5.415  9.77   7.28   2.605  3.89  42.04 ]\n"
     ]
    }
   ],
   "source": [
    "num_trajectories = 200\n",
    "\n",
    "interaction_matrix = np.array([[12.5,4,0.1,0.1,1,0.05,0.05,0.1],\n",
    "                               [3.41,8,0.1,0.1,1,0.05,0.05,0.2],\n",
    "                               [0.19,0.22,4,0.1,1.2,0.05,0.2,1.8],\n",
    "                               [0.14,0.17,0.07,9,1,0.05,0.05,0.2],\n",
    "                               [1.92,2.26,1.22,1.37,1,0.15,0.3,1.56],\n",
    "                               [0.18,0.21,0.1,0.13,0.28,1.8,0.2,1.56],\n",
    "                               [0.07,0.09,0.15,0.05,0.23,0.08,1.8,1.56],\n",
    "                               [0.011,0.026,0.106,0.016,0.091,0.048,0.12,3.5]])\n",
    "\n",
    "interaction_matrix = 0.7 * interaction_matrix\n",
    "\n",
    "group_names = ['UG (campus)', 'UG (off campus)', 'GS (research)', 'GS (other)', 'Faculty/Staff (student facing)', 'Faculty/Staff (non student facing)', 'Faculty/Staff (off campus)', 'Ithaca Community']\n",
    "\n",
    "\n",
    "num_groups = len(group_names)\n",
    "free_and_infectious_opt = np.zeros((num_trajectories, num_groups))\n",
    "QS_opt = np.zeros((num_trajectories, num_groups))\n",
    "QI_opt = np.zeros((num_trajectories, num_groups))\n",
    "    \n",
    "ug_dorm_params = load_params('../src/simulations_v2/params/quarantine_analysis/aug9quarantine/move_in_weekend/optimistic/ug_dorm.yaml')[1]\n",
    "ug_off_campus_params = load_params('../src/simulations_v2/params/quarantine_analysis/aug9quarantine/move_in_weekend/optimistic/ug_off_campus.yaml')[1]\n",
    "gs_research_params = load_params('../src/simulations_v2/params/quarantine_analysis/aug9quarantine/move_in_weekend/optimistic/grad_research.yaml')[1]\n",
    "gs_other_params = load_params('../src/simulations_v2/params/quarantine_analysis/aug9quarantine/move_in_weekend/optimistic/grad_other.yaml')[1]\n",
    "faculty_staff_student_params = load_params('../src/simulations_v2/params/quarantine_analysis/aug9quarantine/move_in_weekend/optimistic/faculty_staff_student_same_age.yaml')[1]\n",
    "faculty_staff_non_student_params = load_params('../src/simulations_v2/params/quarantine_analysis/aug9quarantine/move_in_weekend/optimistic/faculty_staff_non_student_same_age.yaml')[1]\n",
    "faculty_staff_off_campus_params = load_params('../src/simulations_v2/params/quarantine_analysis/aug9quarantine/move_in_weekend/optimistic/faculty_staff_off_campus_same_age.yaml')[1]\n",
    "ithaca_community_params = load_params('../src/simulations_v2/params/quarantine_analysis/aug9quarantine/move_in_weekend/optimistic/ithaca_community.yaml')[1]\n",
    "\n",
    "params_list = [ug_dorm_params.copy(), ug_off_campus_params.copy(), gs_research_params.copy(), gs_other_params.copy(), faculty_staff_student_params.copy(), faculty_staff_non_student_params.copy(), faculty_staff_off_campus_params.copy(), ithaca_community_params.copy()]\n",
    "\n",
    "for index, params in enumerate(params_list):\n",
    "    params['expected_contacts_per_day'] = interaction_matrix[index, index]\n",
    "\n",
    "sim = MultiGroupSimulation(params_list, interaction_matrix, group_names)\n",
    "    \n",
    "for i in range(num_trajectories):\n",
    "    sim.reset_initial_state()\n",
    "    for _ in range(18):\n",
    "        sim.step()\n",
    "\n",
    "    for j in range(num_groups):\n",
    "        free_and_infectious_opt[i, j] = sim.get_free_infectious(j)\n",
    "        QS_opt[i, j] = sim.sims[j].QS\n",
    "        QI_opt[i, j] = sim.sims[j].QI\n",
    "\n",
    "print(\"Optimistic: \")\n",
    "print(\"free-and-infectious: \", np.mean(free_and_infectious_opt, axis=0))\n",
    "\n",
    "populations = [sim.sims[j].pop_size for j in range(num_groups)]\n",
    "print(\"prevalence:\", np.mean(free_and_infectious_opt, axis=0) / populations)\n",
    "print(\"QS: \", np.mean(QS_opt, axis=0))\n",
    "print(\"QI: \", np.mean(QI_opt, axis=0))"
   ]
  },
  {
   "cell_type": "code",
   "execution_count": 11,
   "metadata": {},
   "outputs": [
    {
     "name": "stdout",
     "output_type": "stream",
     "text": [
      "11.44\n",
      "65.02999999999999\n",
      "65.55\n"
     ]
    }
   ],
   "source": [
    "# statistics within Cornell (including students, faculty / staff)\n",
    "print(np.sum(np.mean(free_and_infectious_opt[:, :7], axis=0)))\n",
    "print(np.sum(np.mean(QI_opt[:, :7], axis=0)))\n",
    "print(np.sum(np.mean(QS_opt[:, :7], axis=0)))"
   ]
  },
  {
   "cell_type": "code",
   "execution_count": 12,
   "metadata": {},
   "outputs": [
    {
     "name": "stdout",
     "output_type": "stream",
     "text": [
      "51.254999999999995\n",
      "49.68\n"
     ]
    }
   ],
   "source": [
    "# quarantine/isolation statistics of students\n",
    "print(np.sum(np.mean(QI_opt[:, :4], axis=0)))\n",
    "print(np.sum(np.mean(QS_opt[:, :4], axis=0)))"
   ]
  },
  {
   "cell_type": "code",
   "execution_count": 21,
   "metadata": {},
   "outputs": [
    {
     "name": "stdout",
     "output_type": "stream",
     "text": [
      "71.1\n",
      "78.0\n"
     ]
    }
   ],
   "source": [
    "# quarantine/isolation statistics of students\n",
    "print(np.sum(np.percentile(QI_opt[:, :4], 90, axis=0)))\n",
    "print(np.sum(np.percentile(QS_opt[:, :4], 90, axis=0)))"
   ]
  },
  {
   "cell_type": "code",
   "execution_count": 13,
   "metadata": {},
   "outputs": [
    {
     "name": "stdout",
     "output_type": "stream",
     "text": [
      "15.16\n",
      "14.31\n"
     ]
    }
   ],
   "source": [
    "# quarantine/isolation statistics of on-campus students\n",
    "print(np.sum(np.mean(QI_opt[:, 0], axis=0)))\n",
    "print(np.sum(np.mean(QS_opt[:, 0], axis=0)))"
   ]
  },
  {
   "cell_type": "code",
   "execution_count": 22,
   "metadata": {},
   "outputs": [
    {
     "name": "stdout",
     "output_type": "stream",
     "text": [
      "22.0\n",
      "24.0\n"
     ]
    }
   ],
   "source": [
    "# quarantine/isolation statistics of on-campus students\n",
    "print(np.sum(np.percentile(QI_opt[:, 0], 90, axis=0)))\n",
    "print(np.sum(np.percentile(QS_opt[:, 0], 90, axis=0)))"
   ]
  },
  {
   "cell_type": "code",
   "execution_count": 14,
   "metadata": {},
   "outputs": [
    {
     "name": "stdout",
     "output_type": "stream",
     "text": [
      "36.095\n",
      "35.37\n"
     ]
    }
   ],
   "source": [
    "# quarantine/isolation statistics of off-campus students\n",
    "print(np.sum(np.mean(QI_opt[:, 1:4], axis=0)))\n",
    "print(np.sum(np.mean(QS_opt[:, 1:4], axis=0)))"
   ]
  },
  {
   "cell_type": "code",
   "execution_count": 23,
   "metadata": {},
   "outputs": [
    {
     "name": "stdout",
     "output_type": "stream",
     "text": [
      "49.099999999999994\n",
      "54.0\n"
     ]
    }
   ],
   "source": [
    "# quarantine/isolation statistics of off-campus students\n",
    "print(np.sum(np.percentile(QI_opt[:, 1:4], 90, axis=0)))\n",
    "print(np.sum(np.percentile(QS_opt[:, 1:4], 90, axis=0)))"
   ]
  },
  {
   "cell_type": "code",
   "execution_count": 15,
   "metadata": {},
   "outputs": [],
   "source": [
    "np.savetxt('/home/jw2529/results/free_and_infectious_optimistic.out', free_and_infectious_opt)\n",
    "np.savetxt('/home/jw2529/results/QI_optimistic.out', QI_opt)\n",
    "np.savetxt('/home/jw2529/results/QS_optimistic.out', QS_opt)"
   ]
  },
  {
   "cell_type": "code",
   "execution_count": null,
   "metadata": {},
   "outputs": [],
   "source": []
  }
 ],
 "metadata": {
  "kernelspec": {
   "display_name": "Python 3",
   "language": "python",
   "name": "python3"
  },
  "language_info": {
   "codemirror_mode": {
    "name": "ipython",
    "version": 3
   },
   "file_extension": ".py",
   "mimetype": "text/x-python",
   "name": "python",
   "nbconvert_exporter": "python",
   "pygments_lexer": "ipython3",
   "version": "3.7.6"
  }
 },
 "nbformat": 4,
 "nbformat_minor": 2
}
