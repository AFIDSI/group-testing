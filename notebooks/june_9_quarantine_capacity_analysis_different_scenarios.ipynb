{
 "cells": [
  {
   "cell_type": "code",
   "execution_count": 1,
   "metadata": {},
   "outputs": [],
   "source": [
    "import pandas as pd\n",
    "import numpy as np\n",
    "import matplotlib.pyplot as plt\n",
    "import glob\n",
    "import os"
   ]
  },
  {
   "cell_type": "code",
   "execution_count": 2,
   "metadata": {},
   "outputs": [],
   "source": [
    "scenarios = ['nominal', 'nominal_inter', 'optimistic', 'optimistic_inter', 'pessimistic', 'pessimistic_inter']\n",
    "dirs = ['/nfs01/covid_sims/1591722701.9338531-test_population_fraction', \n",
    "        '/nfs01/covid_sims/1591722921.1701093-test_population_fraction',\n",
    "        '/nfs01/covid_sims/1591723140.4164646-test_population_fraction',\n",
    "        '/nfs01/covid_sims/1591723354.9155517-test_population_fraction',\n",
    "        '/nfs01/covid_sims/1591723562.6478596-test_population_fraction',\n",
    "        '/nfs01/covid_sims/1591723796.7505295-test_population_fraction']"
   ]
  },
  {
   "cell_type": "code",
   "execution_count": 4,
   "metadata": {},
   "outputs": [
    {
     "name": "stdout",
     "output_type": "stream",
     "text": [
      "500\n",
      "QI Avg = 128.106, QS Avg = 397.68, for scenario = nominal\n",
      "500\n",
      "QI Avg = 172.384, QS Avg = 496.084, for scenario = nominal_inter\n",
      "500\n",
      "QI Avg = 45.226, QS Avg = 225.094, for scenario = optimistic\n",
      "500\n",
      "QI Avg = 69.976, QS Avg = 288.002, for scenario = optimistic_inter\n",
      "500\n",
      "QI Avg = 539.988, QS Avg = 1120.542, for scenario = pessimistic\n",
      "500\n",
      "QI Avg = 626.018, QS Avg = 1300.694, for scenario = pessimistic_inter\n"
     ]
    }
   ],
   "source": [
    "for j, PATH in enumerate(dirs):\n",
    "    os.chdir(PATH)\n",
    "    results = glob.glob('**/simulation-0/*.csv', recursive=True) # simulatino-0 corresponds to daily testing frac = 0.2\n",
    "    print(len(results))\n",
    "    n_trajectories = len(results)\n",
    "    cum_QI = np.zeros(n_trajectories)\n",
    "    cum_QS = np.zeros(n_trajectories)\n",
    "    for i, res in enumerate(results):\n",
    "        df = pd.read_csv(res)\n",
    "        cum_QI[i] = df['QI'].iloc[-1]\n",
    "        cum_QS[i] = df['QS'].iloc[-1]\n",
    "    \n",
    "    avg_cum_QI = np.mean(cum_QI)\n",
    "    avg_cum_QS = np.mean(cum_QS)\n",
    "    print('QI Avg = {}, QS Avg = {}, for scenario = {}'.format(avg_cum_QI, avg_cum_QS, scenarios[j]))\n",
    "    "
   ]
  },
  {
   "cell_type": "code",
   "execution_count": null,
   "metadata": {},
   "outputs": [],
   "source": []
  }
 ],
 "metadata": {
  "kernelspec": {
   "display_name": "Python 3",
   "language": "python",
   "name": "python3"
  },
  "language_info": {
   "codemirror_mode": {
    "name": "ipython",
    "version": 3
   },
   "file_extension": ".py",
   "mimetype": "text/x-python",
   "name": "python",
   "nbconvert_exporter": "python",
   "pygments_lexer": "ipython3",
   "version": "3.7.6"
  }
 },
 "nbformat": 4,
 "nbformat_minor": 4
}
