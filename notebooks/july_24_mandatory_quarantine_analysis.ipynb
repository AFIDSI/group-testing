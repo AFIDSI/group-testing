{
 "cells": [
  {
   "cell_type": "code",
   "execution_count": 21,
   "metadata": {},
   "outputs": [],
   "source": [
    "import sys\n",
    "import os\n",
    "import numpy as np\n",
    "module_path = os.path.abspath(os.path.join('..'))\n",
    "if module_path not in sys.path:\n",
    "    sys.path.append(module_path + \"/src/simulations_v2\")\n",
    "from load_params import load_multigroup_params, load_params\n",
    "from multi_group_simulation import MultiGroupSimulation\n",
    "from stochastic_simulation import StochasticSimulation"
   ]
  },
  {
   "cell_type": "code",
   "execution_count": 2,
   "metadata": {},
   "outputs": [
    {
     "name": "stderr",
     "output_type": "stream",
     "text": [
      "/home/jw2529/group-testing/src/simulations_v2/load_params.py:64: YAMLLoadWarning: calling yaml.load() without Loader=... is deprecated, as the default Loader is unsafe. Please read https://msg.pyyaml.org/load for full details.\n",
      "  params = yaml.load(f)\n",
      "/home/jw2529/group-testing/src/simulations_v2/load_params.py:136: YAMLLoadWarning: calling yaml.load() without Loader=... is deprecated, as the default Loader is unsafe. Please read https://msg.pyyaml.org/load for full details.\n",
      "  params = yaml.load(f)\n",
      "/home/jw2529/group-testing/src/simulations_v2/load_params.py:45: YAMLLoadWarning: calling yaml.load() without Loader=... is deprecated, as the default Loader is unsafe. Please read https://msg.pyyaml.org/load for full details.\n",
      "  age_sev_params = yaml.load(f)\n"
     ]
    }
   ],
   "source": [
    "grp_params, grp_names, interactions_mtx = \\\n",
    "    load_multigroup_params(\"../src/simulations_v2/params/multigroup/mandatory_quarantine.yaml\")"
   ]
  },
  {
   "cell_type": "code",
   "execution_count": 3,
   "metadata": {},
   "outputs": [],
   "source": [
    "sim = MultiGroupSimulation(grp_params, interactions_mtx, grp_names)"
   ]
  },
  {
   "cell_type": "code",
   "execution_count": 4,
   "metadata": {},
   "outputs": [],
   "source": [
    "num_trajectories = 100\n",
    "# group 0: self-quarantined students; group 1: non-quarantined students already in Ithaca\n",
    "free_and_infectious_group_0 = np.zeros(num_trajectories)\n",
    "free_and_infectious_group_1 = np.zeros(num_trajectories)\n",
    "QS_group_0 = np.zeros(num_trajectories)\n",
    "QS_group_1 = np.zeros(num_trajectories)\n",
    "QI_group_0 = np.zeros(num_trajectories)\n",
    "QI_group_1 = np.zeros(num_trajectories)\n",
    "\n",
    "\n",
    "for i in range(num_trajectories):\n",
    "    sim.reset_initial_state()\n",
    "    for _ in range(14):\n",
    "        sim.step()\n",
    "\n",
    "    free_and_infectious_group_0[i] = sim.get_free_infectious(0)\n",
    "    free_and_infectious_group_1[i] = sim.get_free_infectious(1)\n",
    "    QS_group_0[i] = sim.sims[0].QS\n",
    "    QS_group_1[i] = sim.sims[1].QS\n",
    "    QI_group_0[i] = sim.sims[0].QI\n",
    "    QI_group_1[i] = sim.sims[1].QI\n"
   ]
  },
  {
   "cell_type": "code",
   "execution_count": 5,
   "metadata": {},
   "outputs": [],
   "source": [
    "import matplotlib.pyplot as plt\n",
    "%matplotlib inline"
   ]
  },
  {
   "cell_type": "code",
   "execution_count": 6,
   "metadata": {},
   "outputs": [
    {
     "data": {
      "text/plain": [
       "16.53"
      ]
     },
     "execution_count": 6,
     "metadata": {},
     "output_type": "execute_result"
    }
   ],
   "source": [
    "np.mean(free_and_infectious_group_0)"
   ]
  },
  {
   "cell_type": "code",
   "execution_count": 7,
   "metadata": {},
   "outputs": [
    {
     "data": {
      "text/plain": [
       "30.14"
      ]
     },
     "execution_count": 7,
     "metadata": {},
     "output_type": "execute_result"
    }
   ],
   "source": [
    "np.mean(free_and_infectious_group_1)"
   ]
  },
  {
   "cell_type": "code",
   "execution_count": 8,
   "metadata": {},
   "outputs": [
    {
     "data": {
      "text/plain": [
       "45.12"
      ]
     },
     "execution_count": 8,
     "metadata": {},
     "output_type": "execute_result"
    }
   ],
   "source": [
    "np.mean(QS_group_0)"
   ]
  },
  {
   "cell_type": "code",
   "execution_count": 9,
   "metadata": {},
   "outputs": [
    {
     "data": {
      "text/plain": [
       "36.96"
      ]
     },
     "execution_count": 9,
     "metadata": {},
     "output_type": "execute_result"
    }
   ],
   "source": [
    "np.mean(QS_group_1)"
   ]
  },
  {
   "cell_type": "code",
   "execution_count": 10,
   "metadata": {},
   "outputs": [
    {
     "data": {
      "text/plain": [
       "10.01"
      ]
     },
     "execution_count": 10,
     "metadata": {},
     "output_type": "execute_result"
    }
   ],
   "source": [
    "np.mean(QI_group_0)"
   ]
  },
  {
   "cell_type": "code",
   "execution_count": 11,
   "metadata": {},
   "outputs": [
    {
     "data": {
      "text/plain": [
       "8.74"
      ]
     },
     "execution_count": 11,
     "metadata": {},
     "output_type": "execute_result"
    }
   ],
   "source": [
    "np.mean(QI_group_1)"
   ]
  },
  {
   "cell_type": "code",
   "execution_count": 29,
   "metadata": {},
   "outputs": [
    {
     "name": "stderr",
     "output_type": "stream",
     "text": [
      "/home/jw2529/group-testing/src/simulations_v2/load_params.py:136: YAMLLoadWarning: calling yaml.load() without Loader=... is deprecated, as the default Loader is unsafe. Please read https://msg.pyyaml.org/load for full details.\n",
      "  params = yaml.load(f)\n",
      "/home/jw2529/group-testing/src/simulations_v2/load_params.py:45: YAMLLoadWarning: calling yaml.load() without Loader=... is deprecated, as the default Loader is unsafe. Please read https://msg.pyyaml.org/load for full details.\n",
      "  age_sev_params = yaml.load(f)\n"
     ]
    }
   ],
   "source": [
    "scenario_name, params = \\\n",
    "    load_params(\"../src/simulations_v2/params/mandatory_quarantine_local_only.yaml\")\n",
    "\n",
    "sim = StochasticSimulation(params)"
   ]
  },
  {
   "cell_type": "code",
   "execution_count": 30,
   "metadata": {},
   "outputs": [],
   "source": [
    "num_trajectories = 100\n",
    "# group 0: non-quarantined students already in Ithaca\n",
    "free_and_infectious_list = np.zeros(num_trajectories)\n",
    "QS_list = np.zeros(num_trajectories)\n",
    "QI_list = np.zeros(num_trajectories)\n",
    "\n",
    "for i in range(num_trajectories):\n",
    "    sim.reset_initial_state()\n",
    "    for _ in range(14):\n",
    "        sim.step()\n",
    "\n",
    "    if sim.pre_ID_state == 'infectious':\n",
    "            free_infectious = sum(sim.pre_ID)\n",
    "    else:\n",
    "            free_infectious = 0\n",
    "\n",
    "    free_infectious += sum(sim.ID)\n",
    "    free_infectious += sum(sim.SyID_mild)\n",
    "    free_infectious += sum(sim.SyID_severe)\n",
    "    free_and_infectious_list[i] = free_infectious\n",
    "    \n",
    "    QS_list[i] = sim.QS\n",
    "    QI_list[i] = sim.QI"
   ]
  },
  {
   "cell_type": "code",
   "execution_count": 31,
   "metadata": {},
   "outputs": [
    {
     "name": "stdout",
     "output_type": "stream",
     "text": [
      "27.06 32.94 7.6\n"
     ]
    }
   ],
   "source": [
    "print(np.mean(free_and_infectious_list), np.mean(QS_list), np.mean(QI_list))"
   ]
  },
  {
   "cell_type": "code",
   "execution_count": null,
   "metadata": {},
   "outputs": [],
   "source": []
  }
 ],
 "metadata": {
  "kernelspec": {
   "display_name": "Python 3",
   "language": "python",
   "name": "python3"
  },
  "language_info": {
   "codemirror_mode": {
    "name": "ipython",
    "version": 3
   },
   "file_extension": ".py",
   "mimetype": "text/x-python",
   "name": "python",
   "nbconvert_exporter": "python",
   "pygments_lexer": "ipython3",
   "version": "3.7.6"
  }
 },
 "nbformat": 4,
 "nbformat_minor": 2
}
