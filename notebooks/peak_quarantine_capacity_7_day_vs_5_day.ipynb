{
 "cells": [
  {
   "cell_type": "code",
   "execution_count": 1,
   "metadata": {},
   "outputs": [],
   "source": [
    "import pandas as pd\n",
    "import numpy as np\n",
    "import matplotlib.pyplot as plt\n",
    "import glob\n",
    "import os"
   ]
  },
  {
   "cell_type": "code",
   "execution_count": 4,
   "metadata": {},
   "outputs": [
    {
     "name": "stdout",
     "output_type": "stream",
     "text": [
      "500\n",
      "QI Avg = 185.356, QS Avg = 499.224\n"
     ]
    }
   ],
   "source": [
    "PATH = '/nfs01/covid_sims/1591973426.754994-test_population_fraction'\n",
    "\n",
    "# fraction = 0.143\n",
    "os.chdir(PATH)\n",
    "results = glob.glob('**/simulation-0/*.csv', recursive=True) # simulatino-0 corresponds to daily testing frac = 0.2\n",
    "print(len(results))\n",
    "n_trajectories = len(results)\n",
    "cum_QI = np.zeros(n_trajectories)\n",
    "cum_QS = np.zeros(n_trajectories)\n",
    "for i, res in enumerate(results):\n",
    "    df = pd.read_csv(res)\n",
    "    cum_QI[i] = df['QI'].iloc[-1]\n",
    "    cum_QS[i] = df['QS'].iloc[-1]\n",
    "\n",
    "avg_cum_QI = np.mean(cum_QI)\n",
    "avg_cum_QS = np.mean(cum_QS)\n",
    "print('QI Avg = {}, QS Avg = {}'.format(avg_cum_QI, avg_cum_QS))\n",
    "\n",
    "    "
   ]
  },
  {
   "cell_type": "code",
   "execution_count": 5,
   "metadata": {},
   "outputs": [
    {
     "name": "stdout",
     "output_type": "stream",
     "text": [
      "500\n",
      "QI Avg = 173.724, QS Avg = 498.87\n"
     ]
    }
   ],
   "source": [
    "# fraction = 0.2\n",
    "\n",
    "os.chdir(PATH)\n",
    "results = glob.glob('**/simulation-1/*.csv', recursive=True) # simulatino-0 corresponds to daily testing frac = 0.2\n",
    "print(len(results))\n",
    "n_trajectories = len(results)\n",
    "cum_QI = np.zeros(n_trajectories)\n",
    "cum_QS = np.zeros(n_trajectories)\n",
    "for i, res in enumerate(results):\n",
    "    df = pd.read_csv(res)\n",
    "    cum_QI[i] = df['QI'].iloc[-1]\n",
    "    cum_QS[i] = df['QS'].iloc[-1]\n",
    "\n",
    "avg_cum_QI = np.mean(cum_QI)\n",
    "avg_cum_QS = np.mean(cum_QS)\n",
    "print('QI Avg = {}, QS Avg = {}'.format(avg_cum_QI, avg_cum_QS))"
   ]
  },
  {
   "cell_type": "code",
   "execution_count": null,
   "metadata": {},
   "outputs": [],
   "source": []
  }
 ],
 "metadata": {
  "kernelspec": {
   "display_name": "Python 3",
   "language": "python",
   "name": "python3"
  },
  "language_info": {
   "codemirror_mode": {
    "name": "ipython",
    "version": 3
   },
   "file_extension": ".py",
   "mimetype": "text/x-python",
   "name": "python",
   "nbconvert_exporter": "python",
   "pygments_lexer": "ipython3",
   "version": "3.7.6"
  }
 },
 "nbformat": 4,
 "nbformat_minor": 4
}
