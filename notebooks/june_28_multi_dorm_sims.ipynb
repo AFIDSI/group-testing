{
 "cells": [
  {
   "cell_type": "code",
   "execution_count": 1,
   "metadata": {
    "collapsed": true
   },
   "outputs": [],
   "source": [
    "import sys\n",
    "import os\n",
    "import numpy as np\n",
    "module_path = os.path.abspath(os.path.join('..'))\n",
    "if module_path not in sys.path:\n",
    "    sys.path.append(module_path + \"/src/simulations_v2\")\n",
    "from load_params import load_multigroup_params\n",
    "from multi_group_dorm_simulation import MultiGroupDormSimulation"
   ]
  },
  {
   "cell_type": "code",
   "execution_count": 2,
   "metadata": {},
   "outputs": [],
   "source": [
    "dorm_sim = MultiGroupDormSimulation(\n",
    "            num_dorms=100,\n",
    "            dorm_population=8000,\n",
    "            non_dorm_population=26000,\n",
    "            intra_dorm_contacts=10, # 10 contacts/day within each dorm\n",
    "            inter_dorm_contacts=10, #10 contacts/day with other people in dorms\n",
    "            intra_non_dorm_contacts=7.3, # each person in a dorm has this many contacts/day with person not in a dorm\n",
    "            inter_non_dorm_contacts=3, #contacts/day within non-dorm community\n",
    "            dorm_test_rate=0.5, # daily test rate within dorms\n",
    "            non_dorm_test_rate=0.2, #daily test rate in non-dorm\n",
    "            quarantine_leakage_contacts_dorm=0.3, # dorm -> different dorm contacts/day after dorm is quarantined\n",
    "            quarantine_leakage_contacts_non_dorm=0.1, # dorm -> non-dorm contacts/day after dorm is quarantined\n",
    "            quarantine_test_fraction=1.0, # test fraction after dorm goes into quarantine\n",
    "            dorm_outside_infection_p=0, # outside infection probability for people in dorms\n",
    "            initial_dorm_prevalence = 0 # initial prevalence (percentage) in the dorms\n",
    ")"
   ]
  },
  {
   "cell_type": "code",
   "execution_count": 3,
   "metadata": {
    "collapsed": true
   },
   "outputs": [],
   "source": [
    "c = dorm_sim.run_new_trajectory(25)"
   ]
  },
  {
   "cell_type": "code",
   "execution_count": 4,
   "metadata": {},
   "outputs": [
    {
     "data": {
      "text/plain": [
       "[0, 0, 0, 0, 0, 0, 0, 0, 0, 0, 0, 1, 1, 1, 2, 2, 3, 4, 5, 5, 6, 10, 11, 11, 12]"
      ]
     },
     "execution_count": 4,
     "metadata": {},
     "output_type": "execute_result"
    }
   ],
   "source": [
    "c"
   ]
  },
  {
   "cell_type": "code",
   "execution_count": 19,
   "metadata": {},
   "outputs": [
    {
     "data": {
      "text/plain": [
       "False"
      ]
     },
     "execution_count": 19,
     "metadata": {},
     "output_type": "execute_result"
    }
   ],
   "source": [
    "0 == None"
   ]
  },
  {
   "cell_type": "code",
   "execution_count": 12,
   "metadata": {},
   "outputs": [
    {
     "ename": "IndexError",
     "evalue": "index 200 is out of bounds for axis 0 with size 101",
     "output_type": "error",
     "traceback": [
      "\u001b[0;31m---------------------------------------------------------------------------\u001b[0m",
      "\u001b[0;31mIndexError\u001b[0m                                Traceback (most recent call last)",
      "\u001b[0;32m<ipython-input-12-f338fbe9eae1>\u001b[0m in \u001b[0;36m<module>\u001b[0;34m()\u001b[0m\n\u001b[0;32m----> 1\u001b[0;31m \u001b[0mdorm_sim\u001b[0m\u001b[0;34m.\u001b[0m\u001b[0minteraction_matrix\u001b[0m\u001b[0;34m[\u001b[0m\u001b[0;36m200\u001b[0m\u001b[0;34m,\u001b[0m\u001b[0;36m199\u001b[0m\u001b[0;34m]\u001b[0m\u001b[0;34m\u001b[0m\u001b[0m\n\u001b[0m",
      "\u001b[0;31mIndexError\u001b[0m: index 200 is out of bounds for axis 0 with size 101"
     ]
    }
   ],
   "source": [
    "dorm_sim.interaction_matrix[200,199]"
   ]
  },
  {
   "cell_type": "code",
   "execution_count": 13,
   "metadata": {},
   "outputs": [
    {
     "data": {
      "text/plain": [
       "80"
      ]
     },
     "execution_count": 13,
     "metadata": {},
     "output_type": "execute_result"
    }
   ],
   "source": [
    "dorm_sim.sims[0].pop_size"
   ]
  },
  {
   "cell_type": "code",
   "execution_count": 18,
   "metadata": {},
   "outputs": [
    {
     "data": {
      "text/plain": [
       "array([10.       ,  0.1010101,  0.1010101,  0.1010101,  0.1010101,\n",
       "        0.1010101,  0.1010101,  0.1010101,  0.1010101,  0.1010101,\n",
       "        0.1010101,  0.1010101,  0.1010101,  0.1010101,  0.1010101,\n",
       "        0.1010101,  0.1010101,  0.1010101,  0.1010101,  0.1010101,\n",
       "        0.1010101,  0.1010101,  0.1010101,  0.1010101,  0.1010101,\n",
       "        0.1010101,  0.1010101,  0.1010101,  0.1010101,  0.1010101,\n",
       "        0.1010101,  0.1010101,  0.1010101,  0.1010101,  0.1010101,\n",
       "        0.1010101,  0.1010101,  0.1010101,  0.1010101,  0.1010101,\n",
       "        0.1010101,  0.1010101,  0.1010101,  0.1010101,  0.1010101,\n",
       "        0.1010101,  0.1010101,  0.1010101,  0.1010101,  0.1010101,\n",
       "        0.1010101,  0.1010101,  0.1010101,  0.1010101,  0.1010101,\n",
       "        0.1010101,  0.1010101,  0.1010101,  0.1010101,  0.1010101,\n",
       "        0.1010101,  0.1010101,  0.1010101,  0.1010101,  0.1010101,\n",
       "        0.1010101,  0.1010101,  0.1010101,  0.1010101,  0.1010101,\n",
       "        0.1010101,  0.1010101,  0.1010101,  0.1010101,  0.1010101,\n",
       "        0.1010101,  0.1010101,  0.1010101,  0.1010101,  0.1010101,\n",
       "        0.1010101,  0.1010101,  0.1010101,  0.1010101,  0.1010101,\n",
       "        0.1010101,  0.1010101,  0.1010101,  0.1010101,  0.1010101,\n",
       "        0.1010101,  0.1010101,  0.1010101,  0.1010101,  0.1010101,\n",
       "        0.1010101,  0.1010101,  0.1010101,  0.1010101,  0.1010101,\n",
       "        3.       ])"
      ]
     },
     "execution_count": 18,
     "metadata": {},
     "output_type": "execute_result"
    }
   ],
   "source": [
    "dorm_sim.interaction_matrix[0,:]"
   ]
  },
  {
   "cell_type": "code",
   "execution_count": null,
   "metadata": {
    "collapsed": true
   },
   "outputs": [],
   "source": []
  }
 ],
 "metadata": {
  "kernelspec": {
   "display_name": "Python 3",
   "language": "python",
   "name": "python3"
  },
  "language_info": {
   "codemirror_mode": {
    "name": "ipython",
    "version": 3
   },
   "file_extension": ".py",
   "mimetype": "text/x-python",
   "name": "python",
   "nbconvert_exporter": "python",
   "pygments_lexer": "ipython3",
   "version": "3.6.3"
  }
 },
 "nbformat": 4,
 "nbformat_minor": 2
}
