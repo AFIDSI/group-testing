{
 "cells": [
  {
   "cell_type": "code",
   "execution_count": 3,
   "metadata": {},
   "outputs": [],
   "source": [
    "import sys\n",
    "import os\n",
    "import numpy as np\n",
    "module_path = os.path.abspath(os.path.join('..'))\n",
    "if module_path not in sys.path:\n",
    "    sys.path.append(module_path + \"/src/simulations_v2\")\n",
    "from load_params import load_multigroup_params, load_params\n",
    "from multi_group_simulation import MultiGroupSimulation"
   ]
  },
  {
   "cell_type": "code",
   "execution_count": 6,
   "metadata": {},
   "outputs": [
    {
     "name": "stdout",
     "output_type": "stream",
     "text": [
      "No return: \n",
      "free-and-infectious:  [ 0.565  1.61   0.785  1.81   0.745  2.665 19.4  ]\n",
      "prevalence: [0.00050222 0.00096005 0.00061089 0.00050306 0.00039067 0.00055776\n",
      " 0.0003129 ]\n",
      "QS:  [  5.4   10.05   5.61  18.36   6.09  21.36 219.03]\n",
      "QI:  [ 3.885  4.745  4.195  9.765  2.71   5.38  60.425]\n"
     ]
    }
   ],
   "source": [
    "num_trajectories = 200\n",
    "\n",
    "interaction_matrix = np.array([[8,0.1,0.1,1,0.05,0.05,0.2],\n",
    "                               [0.22,4,0.1,1.2,0.05,0.2,1.8],\n",
    "                               [0.17,0.07,9,1,0.05,0.05,0.2],\n",
    "                               [2.26,1.22,1.37,1,0.15,0.3,1.56],\n",
    "                               [0.21,0.1,0.13,0.28,1.8,0.2,1.56],\n",
    "                               [0.09,0.15,0.05,0.23,0.08,1.8,1.56],\n",
    "                               [0.026,0.106,0.016,0.091,0.048,0.12,3.5]])\n",
    "\n",
    "group_names = ['UG (off campus)', 'GS (research)', 'GS (other)', 'Faculty/Staff (student facing)', 'Faculty/Staff (non student facing)', 'Faculty/Staff (off campus)', 'Ithaca Community']\n",
    "\n",
    "num_groups = len(group_names)\n",
    "free_and_infectious_local = np.zeros((num_trajectories, num_groups))\n",
    "QS_local = np.zeros((num_trajectories, num_groups))\n",
    "QI_local = np.zeros((num_trajectories, num_groups))\n",
    "    \n",
    "ug_off_campus_params = load_params('../src/simulations_v2/params/quarantine_analysis/aug9quarantine/move_in_weekend/nominal_local_only_option_4/ug_off_campus.yaml')[1]\n",
    "gs_research_params = load_params('../src/simulations_v2/params/quarantine_analysis/aug9quarantine/move_in_weekend/nominal_local_only_option_4/grad_research.yaml')[1]\n",
    "gs_other_params = load_params('../src/simulations_v2/params/quarantine_analysis/aug9quarantine/move_in_weekend/nominal_local_only_option_4/grad_other.yaml')[1]\n",
    "faculty_staff_student_params = load_params('../src/simulations_v2/params/quarantine_analysis/aug9quarantine/move_in_weekend/nominal_local_only_option_4/faculty_staff_student_same_age.yaml')[1]\n",
    "faculty_staff_non_student_params = load_params('../src/simulations_v2/params/quarantine_analysis/aug9quarantine/move_in_weekend/nominal_local_only_option_4/faculty_staff_non_student_same_age.yaml')[1]\n",
    "faculty_staff_off_campus_params = load_params('../src/simulations_v2/params/quarantine_analysis/aug9quarantine/move_in_weekend/nominal_local_only_option_4/faculty_staff_off_campus_same_age.yaml')[1]\n",
    "ithaca_community_params = load_params('../src/simulations_v2/params/quarantine_analysis/aug9quarantine/move_in_weekend/nominal_local_only_option_4/ithaca_community.yaml')[1]\n",
    "\n",
    "params_list = [ug_off_campus_params.copy(), gs_research_params.copy(), gs_other_params.copy(), faculty_staff_student_params.copy(), faculty_staff_non_student_params.copy(), faculty_staff_off_campus_params.copy(), ithaca_community_params.copy()]\n",
    "\n",
    "for index, params in enumerate(params_list):\n",
    "    params['expected_contacts_per_day'] = interaction_matrix[index, index]\n",
    "\n",
    "sim = MultiGroupSimulation(params_list, interaction_matrix, group_names)\n",
    "    \n",
    "for i in range(num_trajectories):\n",
    "    sim.reset_initial_state()\n",
    "    for _ in range(18):\n",
    "        sim.step()\n",
    "\n",
    "    for j in range(num_groups):\n",
    "        free_and_infectious_local[i, j] = sim.get_free_infectious(j)\n",
    "        QS_local[i, j] = sim.sims[j].QS\n",
    "        QI_local[i, j] = sim.sims[j].QI\n",
    "\n",
    "print(\"No return: \")\n",
    "print(\"free-and-infectious: \", np.mean(free_and_infectious_local, axis=0))\n",
    "\n",
    "populations = [sim.sims[j].pop_size for j in range(num_groups)]\n",
    "print(\"prevalence:\", np.mean(free_and_infectious_local, axis=0) / populations)\n",
    "print(\"QS: \", np.mean(QS_local, axis=0))\n",
    "print(\"QI: \", np.mean(QI_local, axis=0))"
   ]
  },
  {
   "cell_type": "code",
   "execution_count": 10,
   "metadata": {},
   "outputs": [
    {
     "name": "stdout",
     "output_type": "stream",
     "text": [
      "8.18\n",
      "30.68\n",
      "66.87\n"
     ]
    }
   ],
   "source": [
    "# statistics within Cornell (including students, faculty / staff)\n",
    "print(np.sum(np.mean(free_and_infectious_local[:, :6], axis=0)))\n",
    "print(np.sum(np.mean(QI_local[:, :6], axis=0)))\n",
    "print(np.sum(np.mean(QS_local[:, :6], axis=0)))"
   ]
  },
  {
   "cell_type": "code",
   "execution_count": 8,
   "metadata": {},
   "outputs": [
    {
     "name": "stdout",
     "output_type": "stream",
     "text": [
      "12.825\n",
      "21.060000000000002\n"
     ]
    }
   ],
   "source": [
    "# quarantine/isolation statistics of students\n",
    "print(np.sum(np.mean(QI_local[:, :3], axis=0)))\n",
    "print(np.sum(np.mean(QS_local[:, :3], axis=0)))"
   ]
  },
  {
   "cell_type": "code",
   "execution_count": 9,
   "metadata": {},
   "outputs": [
    {
     "name": "stdout",
     "output_type": "stream",
     "text": [
      "21.0\n",
      "42.0\n"
     ]
    }
   ],
   "source": [
    "print(np.sum(np.percentile(QI_local[:, :3], 90, axis=0)))\n",
    "print(np.sum(np.percentile(QS_local[:, :3], 90, axis=0)))"
   ]
  },
  {
   "cell_type": "code",
   "execution_count": null,
   "metadata": {},
   "outputs": [],
   "source": []
  }
 ],
 "metadata": {
  "kernelspec": {
   "display_name": "Python 3",
   "language": "python",
   "name": "python3"
  },
  "language_info": {
   "codemirror_mode": {
    "name": "ipython",
    "version": 3
   },
   "file_extension": ".py",
   "mimetype": "text/x-python",
   "name": "python",
   "nbconvert_exporter": "python",
   "pygments_lexer": "ipython3",
   "version": "3.7.6"
  }
 },
 "nbformat": 4,
 "nbformat_minor": 2
}
