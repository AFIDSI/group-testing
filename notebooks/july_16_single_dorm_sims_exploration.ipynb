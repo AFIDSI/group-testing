{
 "cells": [
  {
   "cell_type": "code",
   "execution_count": 1,
   "metadata": {
    "collapsed": true
   },
   "outputs": [],
   "source": [
    "import sys\n",
    "import os\n",
    "import numpy as np\n",
    "module_path = os.path.abspath(os.path.join('..'))\n",
    "if module_path not in sys.path:\n",
    "    sys.path.append(module_path + \"/src/simulations_v2\")\n",
    "from single_dorm_simulation import SingleDormSimulation"
   ]
  },
  {
   "cell_type": "code",
   "execution_count": 2,
   "metadata": {
    "collapsed": true
   },
   "outputs": [],
   "source": [
    "dorm_sim = SingleDormSimulation(dorm_population=100,\n",
    "                                dorm_test_rate=0.2,\n",
    "                                high_alert_dorm_test_rate=0.5,\n",
    "                                contacts_per_day=15,\n",
    "                                high_alert_contacts_per_day=10,\n",
    "                                initial_cases=2)"
   ]
  },
  {
   "cell_type": "code",
   "execution_count": 3,
   "metadata": {},
   "outputs": [
    {
     "name": "stdout",
     "output_type": "stream",
     "text": [
      "elapsed time: 20.96 seconds\n"
     ]
    }
   ],
   "source": [
    "import time\n",
    "start = time.time()\n",
    "t, d = dorm_sim.run_multiple_until_controlled(ntrajectories=100)\n",
    "end = time.time()\n",
    "print(\"elapsed time: {:.2f} seconds\".format(end-start))"
   ]
  },
  {
   "cell_type": "code",
   "execution_count": 11,
   "metadata": {},
   "outputs": [
    {
     "data": {
      "text/plain": [
       "(array([62., 16.,  7.,  7.,  2.,  3.,  2.,  0.,  0.,  1.]),\n",
       " array([ 2. ,  4.6,  7.2,  9.8, 12.4, 15. , 17.6, 20.2, 22.8, 25.4, 28. ]),\n",
       " <a list of 10 Patch objects>)"
      ]
     },
     "execution_count": 11,
     "metadata": {},
     "output_type": "execute_result"
    },
    {
     "data": {
      "image/png": "[encoded data removed]",
      "text/plain": [
       "<matplotlib.figure.Figure at 0x7f70696efc50>"
      ]
     },
     "metadata": {},
     "output_type": "display_data"
    }
   ],
   "source": [
    "import matplotlib.pyplot as plt\n",
    "%matplotlib inline\n",
    "plt.hist(t)"
   ]
  },
  {
   "cell_type": "code",
   "execution_count": 12,
   "metadata": {},
   "outputs": [
    {
     "data": {
      "text/plain": [
       "(array([37., 25., 10., 11.,  7.,  4.,  2.,  3.,  0.,  1.]),\n",
       " array([ 4. ,  7.2, 10.4, 13.6, 16.8, 20. , 23.2, 26.4, 29.6, 32.8, 36. ]),\n",
       " <a list of 10 Patch objects>)"
      ]
     },
     "execution_count": 12,
     "metadata": {},
     "output_type": "execute_result"
    },
    {
     "data": {
      "image/png": "[encoded data removed]",
      "text/plain": [
       "<matplotlib.figure.Figure at 0x7f70696ef668>"
      ]
     },
     "metadata": {},
     "output_type": "display_data"
    }
   ],
   "source": [
    "plt.hist(d)"
   ]
  },
  {
   "cell_type": "code",
   "execution_count": 13,
   "metadata": {},
   "outputs": [
    {
     "data": {
      "text/plain": [
       "16.0"
      ]
     },
     "execution_count": 13,
     "metadata": {},
     "output_type": "execute_result"
    }
   ],
   "source": [
    "np.quantile(t, 0.95)"
   ]
  },
  {
   "cell_type": "code",
   "execution_count": 22,
   "metadata": {},
   "outputs": [
    {
     "data": {
      "text/plain": [
       "24.049999999999997"
      ]
     },
     "execution_count": 22,
     "metadata": {},
     "output_type": "execute_result"
    }
   ],
   "source": [
    "np.quantile(d, 0.95)"
   ]
  },
  {
   "cell_type": "code",
   "execution_count": 14,
   "metadata": {},
   "outputs": [
    {
     "name": "stdout",
     "output_type": "stream",
     "text": [
      "elapsed time: 24.96 seconds\n"
     ]
    }
   ],
   "source": [
    "dorm_sim1 = SingleDormSimulation(dorm_population=100,\n",
    "                                dorm_test_rate=0.2,\n",
    "                                high_alert_dorm_test_rate=0.5,\n",
    "                                contacts_per_day=15,\n",
    "                                high_alert_contacts_per_day=10,\n",
    "                                initial_cases=1)\n",
    "start = time.time()\n",
    "t1, d1 = dorm_sim1.run_multiple_until_controlled(ntrajectories=100)\n",
    "end = time.time()\n",
    "print(\"elapsed time: {:.2f} seconds\".format(end-start))"
   ]
  },
  {
   "cell_type": "code",
   "execution_count": 17,
   "metadata": {},
   "outputs": [
    {
     "data": {
      "text/plain": [
       "14.0"
      ]
     },
     "execution_count": 17,
     "metadata": {},
     "output_type": "execute_result"
    }
   ],
   "source": [
    "np.quantile(t1, 0.95)"
   ]
  },
  {
   "cell_type": "code",
   "execution_count": 18,
   "metadata": {},
   "outputs": [
    {
     "data": {
      "text/plain": [
       "(array([52., 15., 11., 10.,  3.,  3.,  2.,  2.,  1.,  1.]),\n",
       " array([ 1.,  3.,  5.,  7.,  9., 11., 13., 15., 17., 19., 21.]),\n",
       " <a list of 10 Patch objects>)"
      ]
     },
     "execution_count": 18,
     "metadata": {},
     "output_type": "execute_result"
    },
    {
     "data": {
      "image/png": "[encoded data removed]",
      "text/plain": [
       "<matplotlib.figure.Figure at 0x7f703fe63b00>"
      ]
     },
     "metadata": {},
     "output_type": "display_data"
    }
   ],
   "source": [
    "plt.hist(t1)"
   ]
  },
  {
   "cell_type": "code",
   "execution_count": 19,
   "metadata": {},
   "outputs": [
    {
     "data": {
      "text/plain": [
       "(array([36., 23., 15., 13.,  4.,  3.,  2.,  3.,  0.,  1.]),\n",
       " array([ 4. ,  7.8, 11.6, 15.4, 19.2, 23. , 26.8, 30.6, 34.4, 38.2, 42. ]),\n",
       " <a list of 10 Patch objects>)"
      ]
     },
     "execution_count": 19,
     "metadata": {},
     "output_type": "execute_result"
    },
    {
     "data": {
      "image/png": "[encoded data removed]",
      "text/plain": [
       "<matplotlib.figure.Figure at 0x7f703fdc0438>"
      ]
     },
     "metadata": {},
     "output_type": "display_data"
    }
   ],
   "source": [
    "plt.hist(d1)"
   ]
  },
  {
   "cell_type": "code",
   "execution_count": 21,
   "metadata": {},
   "outputs": [
    {
     "data": {
      "text/plain": [
       "29.049999999999997"
      ]
     },
     "execution_count": 21,
     "metadata": {},
     "output_type": "execute_result"
    }
   ],
   "source": [
    "np.quantile(d1, 0.95)"
   ]
  },
  {
   "cell_type": "code",
   "execution_count": 24,
   "metadata": {},
   "outputs": [
    {
     "name": "stdout",
     "output_type": "stream",
     "text": [
      "elapsed time: 19.56 seconds\n"
     ]
    }
   ],
   "source": [
    "dorm_sim8 = SingleDormSimulation(dorm_population=100,\n",
    "                                dorm_test_rate=0.2,\n",
    "                                high_alert_dorm_test_rate=0.8,\n",
    "                                contacts_per_day=15,\n",
    "                                high_alert_contacts_per_day=10,\n",
    "                                initial_cases=2)\n",
    "start = time.time()\n",
    "t8, d8 = dorm_sim8.run_multiple_until_controlled(ntrajectories=100)\n",
    "end = time.time()\n",
    "print(\"elapsed time: {:.2f} seconds\".format(end-start))"
   ]
  },
  {
   "cell_type": "code",
   "execution_count": 26,
   "metadata": {},
   "outputs": [
    {
     "data": {
      "text/plain": [
       "11.0"
      ]
     },
     "execution_count": 26,
     "metadata": {},
     "output_type": "execute_result"
    }
   ],
   "source": [
    "np.quantile(t8, 0.95)"
   ]
  },
  {
   "cell_type": "code",
   "execution_count": 28,
   "metadata": {},
   "outputs": [
    {
     "data": {
      "text/plain": [
       "(array([48., 17., 13.,  6.,  7.,  3.,  5.,  0.,  0.,  1.]),\n",
       " array([ 2. ,  3.5,  5. ,  6.5,  8. ,  9.5, 11. , 12.5, 14. , 15.5, 17. ]),\n",
       " <a list of 10 Patch objects>)"
      ]
     },
     "execution_count": 28,
     "metadata": {},
     "output_type": "execute_result"
    },
    {
     "data": {
      "image/png": "[encoded data removed]",
      "text/plain": [
       "<matplotlib.figure.Figure at 0x7f703fd23c50>"
      ]
     },
     "metadata": {},
     "output_type": "display_data"
    }
   ],
   "source": [
    "plt.hist(t8)"
   ]
  },
  {
   "cell_type": "code",
   "execution_count": 6,
   "metadata": {},
   "outputs": [
    {
     "data": {
      "text/plain": [
       "[18, 12, 5, 7, 6, 15, 6, 11, 14, 23]"
      ]
     },
     "execution_count": 6,
     "metadata": {},
     "output_type": "execute_result"
    }
   ],
   "source": [
    "d"
   ]
  },
  {
   "cell_type": "code",
   "execution_count": 8,
   "metadata": {
    "collapsed": true
   },
   "outputs": [],
   "source": [
    "c, t, f, h = dorm_sim.run_until_controlled()"
   ]
  },
  {
   "cell_type": "code",
   "execution_count": 9,
   "metadata": {},
   "outputs": [
    {
     "data": {
      "text/plain": [
       "[2, 2, 1, 1, 2, 2, 3, 1, 1, 0, 0, 0, 0]"
      ]
     },
     "execution_count": 9,
     "metadata": {},
     "output_type": "execute_result"
    }
   ],
   "source": [
    "f"
   ]
  },
  {
   "cell_type": "code",
   "execution_count": 10,
   "metadata": {},
   "outputs": [
    {
     "data": {
      "text/plain": [
       "[True,\n",
       " True,\n",
       " True,\n",
       " True,\n",
       " True,\n",
       " False,\n",
       " False,\n",
       " True,\n",
       " True,\n",
       " True,\n",
       " True,\n",
       " True,\n",
       " False]"
      ]
     },
     "execution_count": 10,
     "metadata": {},
     "output_type": "execute_result"
    }
   ],
   "source": [
    "h"
   ]
  },
  {
   "cell_type": "code",
   "execution_count": 11,
   "metadata": {},
   "outputs": [
    {
     "data": {
      "text/plain": [
       "5"
      ]
     },
     "execution_count": 11,
     "metadata": {},
     "output_type": "execute_result"
    }
   ],
   "source": [
    "t"
   ]
  },
  {
   "cell_type": "code",
   "execution_count": 7,
   "metadata": {
    "collapsed": true
   },
   "outputs": [],
   "source": [
    "dorm_sim.reset()"
   ]
  },
  {
   "cell_type": "code",
   "execution_count": 11,
   "metadata": {},
   "outputs": [
    {
     "data": {
      "text/plain": [
       "single_dorm_simulation.SingleDormSimulation"
      ]
     },
     "execution_count": 11,
     "metadata": {},
     "output_type": "execute_result"
    }
   ],
   "source": [
    "dorm_sim.__class__"
   ]
  },
  {
   "cell_type": "code",
   "execution_count": 4,
   "metadata": {
    "collapsed": true
   },
   "outputs": [],
   "source": [
    "dorm_sim.update_high_alert_mode()"
   ]
  },
  {
   "cell_type": "code",
   "execution_count": 5,
   "metadata": {},
   "outputs": [
    {
     "data": {
      "text/plain": [
       "array([99,  0,  1,  0,  0,  0,  0,  0,  0,  0,  0,  0,  0,  0,  0,  0,  0,\n",
       "        0,  0,  0,  0,  0,  0,  0,  0,  0,  0,  0,  0,  0,  0,  0,  0,  0,\n",
       "        0,  0,  0,  0,  0,  0,  0,  0,  0,  0,  0,  0,  0,  0,  0,  0,  0,\n",
       "        0,  0,  0,  0,  0,  0,  0,  0,  0,  0,  0,  0,  1,  0,  0])"
      ]
     },
     "execution_count": 5,
     "metadata": {},
     "output_type": "execute_result"
    }
   ],
   "source": [
    "dorm_sim.get_current_state_vector()"
   ]
  },
  {
   "cell_type": "code",
   "execution_count": 6,
   "metadata": {},
   "outputs": [
    {
     "name": "stdout",
     "output_type": "stream",
     "text": [
      "S 99\n",
      "QS 0\n",
      "QI 0\n",
      "R 0\n",
      "E_0 0\n",
      "E_1 0\n",
      "E_2 0\n",
      "E_3 0\n",
      "E_4 0\n",
      "E_5 0\n",
      "E_6 0\n",
      "pre_ID_0 0\n",
      "pre_ID_1 0\n",
      "pre_ID_2 0\n",
      "pre_ID_3 0\n",
      "ID_0 0\n",
      "ID_1 0\n",
      "ID_2 0\n",
      "ID_3 0\n",
      "ID_4 1\n",
      "ID_5 0\n",
      "ID_6 0\n",
      "ID_7 0\n",
      "SyID_mild_0 0\n",
      "SyID_mild_1 0\n",
      "SyID_mild_2 0\n",
      "SyID_mild_3 0\n",
      "SyID_mild_4 0\n",
      "SyID_mild_5 0\n",
      "SyID_mild_6 0\n",
      "SyID_mild_7 0\n",
      "SyID_mild_8 0\n",
      "SyID_mild_9 0\n",
      "SyID_mild_10 0\n",
      "SyID_mild_11 0\n",
      "SyID_mild_12 0\n",
      "SyID_mild_13 0\n",
      "SyID_mild_14 0\n",
      "SyID_mild_15 0\n",
      "SyID_mild_16 0\n",
      "SyID_mild_17 0\n",
      "SyID_mild_18 0\n",
      "SyID_mild_19 0\n",
      "SyID_severe_0 0\n",
      "SyID_severe_1 0\n",
      "SyID_severe_2 0\n",
      "SyID_severe_3 0\n",
      "SyID_severe_4 0\n",
      "SyID_severe_5 0\n",
      "SyID_severe_6 0\n",
      "SyID_severe_7 0\n",
      "SyID_severe_8 0\n",
      "SyID_severe_9 0\n",
      "SyID_severe_10 0\n",
      "SyID_severe_11 0\n",
      "SyID_severe_12 0\n",
      "SyID_severe_13 0\n",
      "SyID_severe_14 0\n",
      "SyID_severe_15 0\n",
      "SyID_severe_16 0\n",
      "SyID_severe_17 0\n",
      "SyID_severe_18 0\n",
      "SyID_severe_19 0\n",
      "cumulative_mild 0\n",
      "cumulative_severe 0\n",
      "cumulative_outside_infections 0\n"
     ]
    }
   ],
   "source": [
    "for a, b in zip(dorm_sim.get_state_vector_labels(), dorm_sim.get_current_state_vector()):\n",
    "    print(a, b)"
   ]
  },
  {
   "cell_type": "code",
   "execution_count": null,
   "metadata": {
    "collapsed": true
   },
   "outputs": [],
   "source": []
  }
 ],
 "metadata": {
  "kernelspec": {
   "display_name": "Python 3",
   "language": "python",
   "name": "python3"
  },
  "language_info": {
   "codemirror_mode": {
    "name": "ipython",
    "version": 3
   },
   "file_extension": ".py",
   "mimetype": "text/x-python",
   "name": "python",
   "nbconvert_exporter": "python",
   "pygments_lexer": "ipython3",
   "version": "3.6.3"
  }
 },
 "nbformat": 4,
 "nbformat_minor": 2
}
