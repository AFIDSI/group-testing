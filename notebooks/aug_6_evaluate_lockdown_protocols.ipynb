{
 "cells": [
  {
   "cell_type": "code",
   "execution_count": 1,
   "metadata": {
    "collapsed": true
   },
   "outputs": [],
   "source": [
    "import sys\n",
    "import os\n",
    "import numpy as np\n",
    "import multiprocessing\n",
    "import dill\n",
    "import matplotlib.pyplot as plt\n",
    "import pandas as pd\n",
    "\n",
    "module_path = os.path.abspath(os.path.join('..'))\n",
    "if module_path not in sys.path:\n",
    "    sys.path.append(module_path + \"/src/simulations_v2\")\n",
    "from load_params import load_params\n",
    "\n",
    "from multi_group_simulation import MultiGroupSimulation"
   ]
  },
  {
   "cell_type": "markdown",
   "metadata": {},
   "source": [
    "## Importing Params, setting up group sim"
   ]
  },
  {
   "cell_type": "code",
   "execution_count": 2,
   "metadata": {
    "collapsed": true
   },
   "outputs": [],
   "source": [
    "ug_dorm_params = load_params('../src/simulations_v2/params/baseline_testing/august_5/ug_dorm.yaml')[1]\n",
    "ug_off_campus_params = load_params('../src/simulations_v2/params/baseline_testing/august_5/ug_off_campus.yaml')[1]\n",
    "gs_research_params = load_params('../src/simulations_v2/params/baseline_testing/august_5/grad_research.yaml')[1]\n",
    "gs_other_params = load_params('../src/simulations_v2/params/baseline_testing/august_5/grad_other.yaml')[1]\n",
    "faculty_staff_student_params = load_params('../src/simulations_v2/params/baseline_testing/august_5/faculty_staff_student_same_age.yaml')[1]\n",
    "faculty_staff_non_student_params = load_params('../src/simulations_v2/params/baseline_testing/august_5/faculty_staff_non_student_same_age.yaml')[1]\n",
    "faculty_staff_off_campus_params = load_params('../src/simulations_v2/params/baseline_testing/august_5/faculty_staff_off_campus_same_age.yaml')[1]\n",
    "ithaca_community_params = load_params('../src/simulations_v2/params/baseline_testing/august_5/ithaca_community.yaml')[1]"
   ]
  },
  {
   "cell_type": "code",
   "execution_count": 3,
   "metadata": {
    "collapsed": true
   },
   "outputs": [],
   "source": [
    "interaction_matrix = np.array([[12.5,4,0.1,0.1,1,0.05,0.05,0.1],\n",
    "                               [3.41,8,0.1,0.1,1,0.05,0.05,0.2],\n",
    "                               [0.19,0.22,4,0.1,1.2,0.05,0.2,1.8],\n",
    "                               [0.14,0.17,0.07,9,1,0.05,0.05,0.2],\n",
    "                               [1.92,2.26,1.22,1.37,1,0.15,0.3,1.56],\n",
    "                               [0.18,0.21,0.1,0.13,0.28,1.8,0.2,1.56],\n",
    "                               [0.07,0.09,0.15,0.05,0.23,0.08,1.8,1.56],\n",
    "                               [0.011,0.026,0.106,0.016,0.091,0.048,0.12,3.5]])\n",
    "\n",
    "group_names = ['UG (campus)', 'UG (off campus)', 'GS (research)', 'GS (other)', 'Faculty/Staff (student facing)', 'Faculty/Staff (non student facing)', 'Faculty/Staff (off campus)', 'Ithaca Community']"
   ]
  },
  {
   "cell_type": "code",
   "execution_count": 32,
   "metadata": {},
   "outputs": [
    {
     "data": {
      "text/plain": [
       "[1.23]"
      ]
     },
     "execution_count": 32,
     "metadata": {},
     "output_type": "execute_result"
    }
   ],
   "source": [
    "list(map(float, ['1.23']))"
   ]
  },
  {
   "cell_type": "code",
   "execution_count": 35,
   "metadata": {
    "collapsed": true
   },
   "outputs": [],
   "source": [
    "lockdown_matrix_str = \\\n",
    "\"\"\"6.25\t2\t0.05\t0.05\t0\t0\t0\t0.02\n",
    "1.70\t4\t0.05\t0.05\t0\t0\t0\t0.04\n",
    "0.09\t0.11\t2\t0.05\t0\t0\t0\t0.36\n",
    "0.07\t0.08\t0.04\t4.5\t0\t0\t0\t0.04\n",
    "0.00\t0.00\t0.00\t0.00\t0.5\t0.075\t0.15\t0.78\n",
    "0.00\t0.00\t0.00\t0.00\t0.14\t0.9\t0.1\t0.78\n",
    "0.00\t0.00\t0.00\t0.00\t0.11\t0.04\t0.9\t0.78\n",
    "0.002\t0.005\t0.021\t0.003\t0.045\t0.024\t0.060\t3.5\"\"\"\n",
    "\n",
    "lockdown_matrix = np.array([[float(entry) for entry in line.split('\\t')] for line in lockdown_matrix_str.split('\\n')])"
   ]
  },
  {
   "cell_type": "code",
   "execution_count": 4,
   "metadata": {
    "collapsed": true
   },
   "outputs": [],
   "source": [
    "def get_cum_hosp(df):\n",
    "    return df[['severity_3', 'severity_2']].iloc[df.shape[0] - 1].sum()\n",
    "\n",
    "def get_cum_outside_infections(df):\n",
    "    return df['cumulative_outside_infections'].iloc[df.shape[0] - 1].sum()\n",
    "\n",
    "def get_cum_infections(df):\n",
    "    return df[['cumulative_mild', 'cumulative_severe']].iloc[df.shape[0] - 1].sum()\n",
    "\n",
    "def total_infections(list_sim_dfs):\n",
    "    total = 0\n",
    "    for sim_df in list_sim_dfs:\n",
    "        total += get_cum_infections(sim_df)\n",
    "    return total\n",
    "\n",
    "def total_hosp(list_sim_dfs):\n",
    "    total = 0\n",
    "    for sim_df in list_sim_dfs:\n",
    "        total += get_cum_hosp(sim_df)\n",
    "    return total\n",
    "\n",
    "def cornell_infections(list_sim_dfs):\n",
    "    total = 0\n",
    "    for sim_df in list_sim_dfs[:-1]:\n",
    "        total += get_cum_infections(sim_df)\n",
    "    return total\n",
    "\n",
    "def cornell_hosp(list_sim_dfs):\n",
    "    total = 0\n",
    "    for sim_df in list_sim_dfs[:-1]:\n",
    "        total += get_cum_hosp(sim_df)\n",
    "    return total"
   ]
  },
  {
   "cell_type": "code",
   "execution_count": 5,
   "metadata": {
    "collapsed": true
   },
   "outputs": [],
   "source": [
    "def run_multigroup_sim(sim, T):\n",
    "    lockdown_statuses, sim_df = sim.run_new_trajectory(112)\n",
    "    popsize = sim.get_total_population()\n",
    "    infection_counts = sim_df[['S', 'QS']].apply(lambda x: (popsize - sum(x)) / popsize * 100, axis=1)\n",
    "    inf_list = list()\n",
    "    hosp_list = list()\n",
    "    for group in sim.sims:\n",
    "        df = group.sim_df\n",
    "        inf_list.append(get_cum_infections(df))\n",
    "        hosp_list.append(get_cum_hosp(df))\n",
    "    return inf_list, hosp_list, lockdown_statuses, list(infection_counts)\n",
    "\n",
    "def run_multiple_trajectories(sim, T, n):\n",
    "    inf_matrix = list()\n",
    "    hosp_matrix = list()\n",
    "    lockdown_trajectories = []\n",
    "    infection_trajectories = []\n",
    "    for _ in range(n):\n",
    "        inf, hosp, lockdowns, infections = run_multigroup_sim(sim, T)\n",
    "        inf_matrix.append(inf)\n",
    "        hosp_matrix.append(hosp)\n",
    "        lockdown_trajectories.append(lockdowns)\n",
    "        infection_trajectories.append(infections)\n",
    "    return inf_matrix, hosp_matrix, lockdown_trajectories, infection_trajectories"
   ]
  },
  {
   "cell_type": "code",
   "execution_count": 30,
   "metadata": {
    "collapsed": true
   },
   "outputs": [],
   "source": [
    "def evaluate_testing_policy(params_list, interaction_matrix, group_names, test_frac, T, n,\n",
    "                           post_lockdown_matrix, new_cases_threshold, new_cases_time_window):\n",
    "    assert len(params_list) == len(test_frac)\n",
    "    sim = MultiGroupSimulation(params_list, interaction_matrix, group_names)\n",
    "\n",
    "    sim.configure_lockdown(post_lockdown_matrix, new_cases_threshold, new_cases_time_window)\n",
    "    \n",
    "    inf_matrix, hosp_matrix, lockdown_trajectories, infection_trajectories = run_multiple_trajectories(sim, T, n)\n",
    "    \n",
    "    return [any(lockdowns) for lockdowns in lockdown_trajectories], [infs[-1] for infs in infection_trajectories]"
   ]
  },
  {
   "cell_type": "markdown",
   "metadata": {},
   "source": [
    "Note total population is 95892"
   ]
  },
  {
   "cell_type": "code",
   "execution_count": 12,
   "metadata": {
    "collapsed": true
   },
   "outputs": [],
   "source": [
    "def get_params_list_copy():\n",
    "    return [ug_dorm_params.copy(), \n",
    "            ug_off_campus_params.copy(), \n",
    "            gs_research_params.copy(), \n",
    "            gs_other_params.copy(), \n",
    "            faculty_staff_student_params.copy(), \n",
    "            faculty_staff_non_student_params.copy(), \n",
    "            faculty_staff_off_campus_params.copy(), \n",
    "            ithaca_community_params.copy()]"
   ]
  },
  {
   "cell_type": "code",
   "execution_count": 36,
   "metadata": {
    "collapsed": true
   },
   "outputs": [],
   "source": [
    "def simulate_lockdown(contact_multiplier, infections_thresh, infections_window, nreps=10):\n",
    "    simulation_population = 95892\n",
    "    new_cases_thresh = infections_thresh / simulation_population\n",
    "    test_policy = [2/7,2/7,1/7,2/7,2/7,1/7,1/30,0]\n",
    "    \n",
    "    return evaluate_testing_policy(get_params_list_copy(),\n",
    "                                      interaction_matrix * contact_multiplier,\n",
    "                                      group_names,\n",
    "                                      test_policy,\n",
    "                                      112,\n",
    "                                      nreps,\n",
    "                                      lockdown_matrix,\n",
    "                                       new_cases_thresh,\n",
    "                                       infections_window)"
   ]
  },
  {
   "cell_type": "code",
   "execution_count": 13,
   "metadata": {},
   "outputs": [
    {
     "name": "stdout",
     "output_type": "stream",
     "text": [
      "elapsed time 72.88\n"
     ]
    }
   ],
   "source": [
    "import time\n",
    "start = time.time()\n",
    "lockdowns, final_infections = simulate_lockdown(1, 1000, 7)\n",
    "end = time.time()\n",
    "print(\"elapsed time {:.2f}\".format(end-start))"
   ]
  },
  {
   "cell_type": "code",
   "execution_count": 14,
   "metadata": {},
   "outputs": [
    {
     "data": {
      "text/plain": [
       "[False, False, False, False, False, False, False, False, False, False]"
      ]
     },
     "execution_count": 14,
     "metadata": {},
     "output_type": "execute_result"
    }
   ],
   "source": [
    "lockdowns"
   ]
  },
  {
   "cell_type": "code",
   "execution_count": 15,
   "metadata": {},
   "outputs": [
    {
     "data": {
      "text/plain": [
       "[1.3223209443957784,\n",
       " 0.7842155758561715,\n",
       " 1.2952071079964962,\n",
       " 1.2733074709047678,\n",
       " 0.9562841530054645,\n",
       " 1.3463062612105285,\n",
       " 1.0407541817878447,\n",
       " 0.990697868435323,\n",
       " 1.0397113419263337,\n",
       " 1.1909231218454095]"
      ]
     },
     "execution_count": 15,
     "metadata": {},
     "output_type": "execute_result"
    }
   ],
   "source": [
    "final_infections"
   ]
  },
  {
   "cell_type": "code",
   "execution_count": null,
   "metadata": {},
   "outputs": [
    {
     "name": "stdout",
     "output_type": "stream",
     "text": [
      "elapsed time on mult 1 was 73.00 seconds\n"
     ]
    }
   ],
   "source": [
    "lockdowns_by_mult = {}\n",
    "infections_by_mult = {}\n",
    "start = time.time()\n",
    "for mult in [1,1.2,1.4,1.6,1.8,2, 2.2, 2.4, 2.6, 2.8, 3]:\n",
    "    lockdowns, final_infections = simulate_lockdown(mult, 1000, 14)\n",
    "    lockdowns_by_mult[mult] = lockdowns\n",
    "    infections_by_mult[mult] = final_infections\n",
    "    end = time.time()\n",
    "    print(\"elapsed time on mult {} was {:.2f} seconds\".format(mult, end-start))\n",
    "    start = end"
   ]
  },
  {
   "cell_type": "code",
   "execution_count": 24,
   "metadata": {
    "collapsed": true
   },
   "outputs": [],
   "source": [
    "mults = []\n",
    "avg_lockdowns = []\n",
    "avg_infections = []\n",
    "\n",
    "for mult in lockdowns_by_mult:\n",
    "    mults.append(mult)\n",
    "    avg_lockdowns.append(np.mean(lockdowns_by_mult[mult]))\n",
    "    avg_infections.append(np.mean(infections_by_mult[mult]))"
   ]
  },
  {
   "cell_type": "code",
   "execution_count": 28,
   "metadata": {},
   "outputs": [
    {
     "data": {
      "text/plain": [
       "Text(0.5,1,'Lockdown probability for lockdown triggered by \\n1000 infections observed in 7-day period ')"
      ]
     },
     "execution_count": 28,
     "metadata": {},
     "output_type": "execute_result"
    },
    {
     "data": {
      "image/png": "[encoded data removed]",
      "text/plain": [
       "<matplotlib.figure.Figure at 0x7f0ef50a5eb8>"
      ]
     },
     "metadata": {},
     "output_type": "display_data"
    }
   ],
   "source": [
    "import matplotlib.pyplot as plt\n",
    "%matplotlib inline\n",
    "\n",
    "plt.plot(mults, [100 * l for l in avg_lockdowns])\n",
    "plt.xlabel(\"Contact matrix multiplier\")\n",
    "plt.ylabel(\"Probability of lockdown\")\n",
    "plt.title(\"Lockdown probability for lockdown triggered by \\n1000 infections observed in 7-day period \")"
   ]
  },
  {
   "cell_type": "code",
   "execution_count": 29,
   "metadata": {},
   "outputs": [
    {
     "data": {
      "text/plain": [
       "Text(0.5,1,'Lockdown probability for lockdown triggered by \\n1000 infections observed in 7-day period')"
      ]
     },
     "execution_count": 29,
     "metadata": {},
     "output_type": "execute_result"
    },
    {
     "data": {
      "image/png": "[encoded data removed]",
      "text/plain": [
       "<matplotlib.figure.Figure at 0x7f0ef510e208>"
      ]
     },
     "metadata": {},
     "output_type": "display_data"
    }
   ],
   "source": [
    "plt.plot(mults, avg_infections)\n",
    "plt.xlabel(\"Contact matrix multiplier\")\n",
    "plt.ylabel(\"Average total infections\")\n",
    "plt.title(\"Lockdown probability for lockdown triggered by \\n1000 infections observed in 7-day period\")"
   ]
  },
  {
   "cell_type": "code",
   "execution_count": null,
   "metadata": {
    "collapsed": true
   },
   "outputs": [],
   "source": []
  }
 ],
 "metadata": {
  "kernelspec": {
   "display_name": "Python 3",
   "language": "python",
   "name": "python3"
  },
  "language_info": {
   "codemirror_mode": {
    "name": "ipython",
    "version": 3
   },
   "file_extension": ".py",
   "mimetype": "text/x-python",
   "name": "python",
   "nbconvert_exporter": "python",
   "pygments_lexer": "ipython3",
   "version": "3.6.3"
  }
 },
 "nbformat": 4,
 "nbformat_minor": 4
}
