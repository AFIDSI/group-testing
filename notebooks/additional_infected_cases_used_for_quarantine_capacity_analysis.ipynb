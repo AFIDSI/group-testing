{
 "cells": [
  {
   "cell_type": "code",
   "execution_count": 1,
   "metadata": {},
   "outputs": [],
   "source": [
    "import pandas as pd\n",
    "import numpy as np\n",
    "import matplotlib.pyplot as plt\n",
    "import glob\n",
    "import os"
   ]
  },
  {
   "cell_type": "code",
   "execution_count": 2,
   "metadata": {},
   "outputs": [],
   "source": [
    "fractions = ['0.2', '0.25', '0.33', '0.5', '1.0']\n",
    "\n",
    "dir_15000 = '/nfs01/covid_sims/1591317309-test_population_fraction/Fall Re-Open Additional Ithaca Infections with returning population = 15000/test_population_fraction-'\n",
    "dir_10000 = '/nfs01/covid_sims/1591317808-test_population_fraction/Fall Re-Open Additional Ithaca Infections with returning population = 10000/test_population_fraction-'"
   ]
  },
  {
   "cell_type": "code",
   "execution_count": 8,
   "metadata": {},
   "outputs": [
    {
     "name": "stdout",
     "output_type": "stream",
     "text": [
      "On average, QI = 12.818, QS = 72.754 when the daily survillance fraction is 0.2\n",
      "On average, QI = 13.83, QS = 87.095 when the daily survillance fraction is 0.25\n",
      "On average, QI = 14.672, QS = 108.757 when the daily survillance fraction is 0.33\n",
      "On average, QI = 14.851, QS = 150.561 when the daily survillance fraction is 0.5\n",
      "On average, QI = 13.22, QS = 266.943 when the daily survillance fraction is 1.0\n"
     ]
    }
   ],
   "source": [
    "for frac in fractions:\n",
    "    path = dir_15000 + frac\n",
    "    results = glob.glob(os.path.join(path, '*.csv'))\n",
    "    n_trajectories = len(results)\n",
    "    QI = 0\n",
    "    QS = 0\n",
    "    for res in results:\n",
    "        df = pd.read_csv(res)\n",
    "        QI += df['QI'].iloc[-1] \n",
    "        QS += df['QS'].iloc[-1]\n",
    "    QI /= n_trajectories\n",
    "    QS /= n_trajectories\n",
    "\n",
    "    print('On average, QI = {}, QS = {} when the daily survillance fraction is {}'.format(QI, QS, frac))"
   ]
  },
  {
   "cell_type": "code",
   "execution_count": 9,
   "metadata": {},
   "outputs": [
    {
     "name": "stdout",
     "output_type": "stream",
     "text": [
      "On average, QI = 8.674, QS = 63.518 when the daily survillance fraction is 0.2\n",
      "On average, QI = 9.312, QS = 77.171 when the daily survillance fraction is 0.25\n",
      "On average, QI = 9.877, QS = 97.077 when the daily survillance fraction is 0.33\n",
      "On average, QI = 10.16, QS = 139.298 when the daily survillance fraction is 0.5\n",
      "On average, QI = 9.16, QS = 257.614 when the daily survillance fraction is 1.0\n"
     ]
    }
   ],
   "source": [
    "for frac in fractions:\n",
    "    path = dir_10000 + frac\n",
    "    results = glob.glob(os.path.join(path, '*.csv'))\n",
    "    n_trajectories = len(results)\n",
    "    QI = 0\n",
    "    QS = 0\n",
    "    for res in results:\n",
    "        df = pd.read_csv(res)\n",
    "        QI += df['QI'].iloc[-1] \n",
    "        QS += df['QS'].iloc[-1]\n",
    "    QI /= n_trajectories\n",
    "    QS /= n_trajectories\n",
    "\n",
    "    print('On average, QI = {}, QS = {} when the daily survillance fraction is {}'.format(QI, QS, frac))"
   ]
  },
  {
   "cell_type": "code",
   "execution_count": null,
   "metadata": {},
   "outputs": [],
   "source": []
  }
 ],
 "metadata": {
  "kernelspec": {
   "display_name": "Python 3",
   "language": "python",
   "name": "python3"
  },
  "language_info": {
   "codemirror_mode": {
    "name": "ipython",
    "version": 3
   },
   "file_extension": ".py",
   "mimetype": "text/x-python",
   "name": "python",
   "nbconvert_exporter": "python",
   "pygments_lexer": "ipython3",
   "version": "3.7.6"
  }
 },
 "nbformat": 4,
 "nbformat_minor": 4
}
