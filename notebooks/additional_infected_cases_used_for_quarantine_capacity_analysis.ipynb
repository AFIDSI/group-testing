{
 "cells": [
  {
   "cell_type": "code",
   "execution_count": 4,
   "metadata": {},
   "outputs": [],
   "source": [
    "import pandas as pd\n",
    "import numpy as np\n",
    "import matplotlib.pyplot as plt\n",
    "import glob\n",
    "import os"
   ]
  },
  {
   "cell_type": "code",
   "execution_count": 5,
   "metadata": {},
   "outputs": [],
   "source": [
    "names = ['0', '1', '2', '3', '4']\n",
    "fractions = {'0': 0.2, '1':0.25, '2': 0.33, '3': 0.5, '4': 1}"
   ]
  },
  {
   "cell_type": "code",
   "execution_count": 7,
   "metadata": {},
   "outputs": [
    {
     "name": "stdout",
     "output_type": "stream",
     "text": [
      "QI Avg = 23.981, 90 quantile = 33.0, QS Avg = 174.628, 90 quantile = 203.0 for daily surveillance fraction = 0.2\n",
      "QI Avg = 21.698, 90 quantile = 30.0, QS Avg = 198.909, 90 quantile = 225.0 for daily surveillance fraction = 0.25\n",
      "QI Avg = 18.647, 90 quantile = 25.0, QS Avg = 240.527, 90 quantile = 263.0 for daily surveillance fraction = 0.33\n",
      "QI Avg = 14.514, 90 quantile = 18.0, QS Avg = 336.303, 90 quantile = 362.0 for daily surveillance fraction = 0.5\n",
      "QI Avg = 11.26, 90 quantile = 12.0, QS Avg = 634.677, 90 quantile = 669.0 for daily surveillance fraction = 1\n"
     ]
    }
   ],
   "source": [
    "dir_nominal = '/nfs01/covid_sims/1591408346-test_population_fraction/Fall Re-Open Additional Ithaca Infections with returning population = 10000/simulation-'\n",
    "\n",
    "for name in names:\n",
    "    path = dir_nominal + name\n",
    "    results = glob.glob(os.path.join(path, '*.csv'))\n",
    "    n_trajectories = len(results)\n",
    "    cum_QI = np.zeros(n_trajectories)\n",
    "    cum_QS = np.zeros(n_trajectories)\n",
    "    for i, res in enumerate(results):\n",
    "        df = pd.read_csv(res)\n",
    "        cum_QI[i] = df['QI'].iloc[-1]\n",
    "        cum_QS[i] = df['QS'].iloc[-1]\n",
    "    \n",
    "    avg_cum_QI = np.mean(cum_QI)\n",
    "    quantile_cum_QI = np.quantile(cum_QI, 0.9)\n",
    "    avg_cum_QS = np.mean(cum_QS)\n",
    "    quantile_cum_QS = np.quantile(cum_QS, 0.9)\n",
    "    \n",
    "    print('QI Avg = {}, 90 quantile = {}, QS Avg = {}, 90 quantile = {} for daily surveillance fraction = {}'.format(avg_cum_QI, quantile_cum_QI, avg_cum_QS, quantile_cum_QS, fractions[name]))"
   ]
  },
  {
   "cell_type": "code",
   "execution_count": 8,
   "metadata": {},
   "outputs": [
    {
     "name": "stdout",
     "output_type": "stream",
     "text": [
      "QI Avg = 12.925, 90 quantile = 20.0, QS Avg = 48.087, 90 quantile = 67.0 for daily surveillance fraction = 0.2\n",
      "QI Avg = 11.885, 90 quantile = 18.0, QS Avg = 51.461, 90 quantile = 69.0 for daily surveillance fraction = 0.25\n",
      "QI Avg = 9.83, 90 quantile = 15.0, QS Avg = 57.037, 90 quantile = 72.0 for daily surveillance fraction = 0.33\n",
      "QI Avg = 8.017, 90 quantile = 11.0, QS Avg = 75.191, 90 quantile = 87.0 for daily surveillance fraction = 0.5\n",
      "QI Avg = 6.151, 90 quantile = 7.0, QS Avg = 134.525, 90 quantile = 149.0 for daily surveillance fraction = 1\n"
     ]
    }
   ],
   "source": [
    "dir_optimistic = '/nfs01/covid_sims/1591409350-test_population_fraction/Fall Re-Open Additional Ithaca Infections with returning population = 8000/simulation-'\n",
    "\n",
    "for name in names:\n",
    "    path = dir_optimistic + name\n",
    "    results = glob.glob(os.path.join(path, '*.csv'))\n",
    "    n_trajectories = len(results)\n",
    "    cum_QI = np.zeros(n_trajectories)\n",
    "    cum_QS = np.zeros(n_trajectories)\n",
    "    for i, res in enumerate(results):\n",
    "        df = pd.read_csv(res)\n",
    "        cum_QI[i] = df['QI'].iloc[-1]\n",
    "        cum_QS[i] = df['QS'].iloc[-1]\n",
    "    \n",
    "    avg_cum_QI = np.mean(cum_QI)\n",
    "    quantile_cum_QI = np.quantile(cum_QI, 0.9)\n",
    "    avg_cum_QS = np.mean(cum_QS)\n",
    "    quantile_cum_QS = np.quantile(cum_QS, 0.9)\n",
    "    \n",
    "    print('QI Avg = {}, 90 quantile = {}, QS Avg = {}, 90 quantile = {} for daily surveillance fraction = {}'.format(avg_cum_QI, quantile_cum_QI, avg_cum_QS, quantile_cum_QS, fractions[name]))"
   ]
  },
  {
   "cell_type": "code",
   "execution_count": 9,
   "metadata": {},
   "outputs": [
    {
     "name": "stdout",
     "output_type": "stream",
     "text": [
      "QI Avg = 51.278, 90 quantile = 66.10000000000002, QS Avg = 730.65, 90 quantile = 775.1 for daily surveillance fraction = 0.2\n",
      "QI Avg = 45.862, 90 quantile = 58.0, QS Avg = 865.924, 90 quantile = 911.1 for daily surveillance fraction = 0.25\n",
      "QI Avg = 38.838, 90 quantile = 48.0, QS Avg = 1088.105, 90 quantile = 1132.0 for daily surveillance fraction = 0.33\n",
      "QI Avg = 30.986, 90 quantile = 37.0, QS Avg = 1574.465, 90 quantile = 1624.0 for daily surveillance fraction = 0.5\n",
      "QI Avg = 24.728, 90 quantile = 26.0, QS Avg = 3009.238, 90 quantile = 3076.1 for daily surveillance fraction = 1\n"
     ]
    }
   ],
   "source": [
    "dir_pessimistic = '/nfs01/covid_sims/1591410041-test_population_fraction/Fall Re-Open Additional Ithaca Infections with returning population = 12000/simulation-'\n",
    "\n",
    "for name in names:\n",
    "    path = dir_pessimistic + name\n",
    "    results = glob.glob(os.path.join(path, '*.csv'))\n",
    "    n_trajectories = len(results)\n",
    "    cum_QI = np.zeros(n_trajectories)\n",
    "    cum_QS = np.zeros(n_trajectories)\n",
    "    for i, res in enumerate(results):\n",
    "        df = pd.read_csv(res)\n",
    "        cum_QI[i] = df['QI'].iloc[-1]\n",
    "        cum_QS[i] = df['QS'].iloc[-1]\n",
    "    \n",
    "    avg_cum_QI = np.mean(cum_QI)\n",
    "    quantile_cum_QI = np.quantile(cum_QI, 0.9)\n",
    "    avg_cum_QS = np.mean(cum_QS)\n",
    "    quantile_cum_QS = np.quantile(cum_QS, 0.9)\n",
    "    \n",
    "    print('QI Avg = {}, 90 quantile = {}, QS Avg = {}, 90 quantile = {} for daily surveillance fraction = {}'.format(avg_cum_QI, quantile_cum_QI, avg_cum_QS, quantile_cum_QS, fractions[name]))"
   ]
  },
  {
   "cell_type": "code",
   "execution_count": null,
   "metadata": {},
   "outputs": [],
   "source": []
  }
 ],
 "metadata": {
  "kernelspec": {
   "display_name": "Python 3",
   "language": "python",
   "name": "python3"
  },
  "language_info": {
   "codemirror_mode": {
    "name": "ipython",
    "version": 3
   },
   "file_extension": ".py",
   "mimetype": "text/x-python",
   "name": "python",
   "nbconvert_exporter": "python",
   "pygments_lexer": "ipython3",
   "version": "3.7.6"
  }
 },
 "nbformat": 4,
 "nbformat_minor": 4
}
