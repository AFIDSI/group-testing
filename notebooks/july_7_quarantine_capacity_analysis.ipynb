{
 "cells": [
  {
   "cell_type": "code",
   "execution_count": 1,
   "metadata": {},
   "outputs": [],
   "source": [
    "import pandas as pd\n",
    "import numpy as np\n",
    "import matplotlib.pyplot as plt\n",
    "import glob\n",
    "import os"
   ]
  },
  {
   "cell_type": "code",
   "execution_count": 2,
   "metadata": {},
   "outputs": [],
   "source": [
    "scenarios = ['2-100', '2-50', '2-0', '4-100', '4-50', '4-0']\n",
    "dirs = ['/nfs01/covid_sims/1594131630.841701-asymptomatic_daily_self_report_p', \n",
    "        '/nfs01/covid_sims/1594131588.7087305-asymptomatic_daily_self_report_p',\n",
    "        '/nfs01/covid_sims//1594131674.591944-asymptomatic_daily_self_report_p',\n",
    "        '/nfs01/covid_sims//1594131714.9827216-asymptomatic_daily_self_report_p',\n",
    "        '/nfs01/covid_sims/1594131755.527977-asymptomatic_daily_self_report_p',\n",
    "        '/nfs01/covid_sims/1594131794.9155269-asymptomatic_daily_self_report_p']"
   ]
  },
  {
   "cell_type": "code",
   "execution_count": 3,
   "metadata": {},
   "outputs": [
    {
     "name": "stdout",
     "output_type": "stream",
     "text": [
      "100\n",
      "QI Avg = 169.38, QS Avg = 490.48, for scenario = 2-100\n",
      "100\n",
      "QI Avg = 235.08, QS Avg = 635.66, for scenario = 2-50\n",
      "100\n",
      "QI Avg = 291.35, QS Avg = 758.94, for scenario = 2-0\n",
      "100\n",
      "QI Avg = 178.74, QS Avg = 512.17, for scenario = 4-100\n",
      "100\n",
      "QI Avg = 300.85, QS Avg = 780.58, for scenario = 4-50\n",
      "100\n",
      "QI Avg = 417.65, QS Avg = 1041.16, for scenario = 4-0\n"
     ]
    }
   ],
   "source": [
    "for j, PATH in enumerate(dirs):\n",
    "    os.chdir(PATH)\n",
    "    results = glob.glob('**/simulation-0/*.csv', recursive=True) # simulatino-0 corresponds to daily testing frac = 0.2\n",
    "    print(len(results))\n",
    "    n_trajectories = len(results)\n",
    "    cum_QI = np.zeros(n_trajectories)\n",
    "    cum_QS = np.zeros(n_trajectories)\n",
    "    for i, res in enumerate(results):\n",
    "        df = pd.read_csv(res)\n",
    "        cum_QI[i] = df['QI'].iloc[-1]\n",
    "        cum_QS[i] = df['QS'].iloc[-1]\n",
    "    \n",
    "    avg_cum_QI = np.mean(cum_QI)\n",
    "    avg_cum_QS = np.mean(cum_QS)\n",
    "    print('QI Avg = {}, QS Avg = {}, for scenario = {}'.format(avg_cum_QI, avg_cum_QS, scenarios[j]))\n",
    "    "
   ]
  },
  {
   "cell_type": "code",
   "execution_count": null,
   "metadata": {},
   "outputs": [],
   "source": []
  }
 ],
 "metadata": {
  "kernelspec": {
   "display_name": "Python 3",
   "language": "python",
   "name": "python3"
  },
  "language_info": {
   "codemirror_mode": {
    "name": "ipython",
    "version": 3
   },
   "file_extension": ".py",
   "mimetype": "text/x-python",
   "name": "python",
   "nbconvert_exporter": "python",
   "pygments_lexer": "ipython3",
   "version": "3.7.6"
  }
 },
 "nbformat": 4,
 "nbformat_minor": 4
}
