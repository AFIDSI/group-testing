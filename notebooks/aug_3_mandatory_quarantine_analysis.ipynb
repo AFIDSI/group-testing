{
 "cells": [
  {
   "cell_type": "code",
   "execution_count": 23,
   "metadata": {},
   "outputs": [],
   "source": [
    "import sys\n",
    "import os\n",
    "import numpy as np\n",
    "module_path = os.path.abspath(os.path.join('..'))\n",
    "if module_path not in sys.path:\n",
    "    sys.path.append(module_path + \"/src/simulations_v2\")\n",
    "from load_params import load_multigroup_params, load_params\n",
    "from multi_group_simulation import MultiGroupSimulation\n",
    "from stochastic_simulation import StochasticSimulation"
   ]
  },
  {
   "cell_type": "code",
   "execution_count": 24,
   "metadata": {},
   "outputs": [],
   "source": [
    "grp_params, grp_names, interactions_mtx = \\\n",
    "    load_multigroup_params(\"../src/simulations_v2/params/multigroup/mandatory_quarantine_aug_3.yaml\")"
   ]
  },
  {
   "cell_type": "code",
   "execution_count": 25,
   "metadata": {},
   "outputs": [],
   "source": [
    "sim = MultiGroupSimulation(grp_params, interactions_mtx, grp_names)"
   ]
  },
  {
   "cell_type": "code",
   "execution_count": 26,
   "metadata": {},
   "outputs": [],
   "source": [
    "num_trajectories = 200\n",
    "# group 0: self-quarantined students; group 1: non-quarantined students already in Ithaca; group 2: faculty / staff\n",
    "free_and_infectious_group_0 = np.zeros(num_trajectories)\n",
    "free_and_infectious_group_1 = np.zeros(num_trajectories)\n",
    "free_and_infectious_group_2 = np.zeros(num_trajectories)\n",
    "\n",
    "QS_group_0 = np.zeros(num_trajectories)\n",
    "QS_group_1 = np.zeros(num_trajectories)\n",
    "QS_group_2 = np.zeros(num_trajectories)\n",
    "\n",
    "QI_group_0 = np.zeros(num_trajectories)\n",
    "QI_group_1 = np.zeros(num_trajectories)\n",
    "QI_group_2 = np.zeros(num_trajectories)\n",
    "\n",
    "\n",
    "for i in range(num_trajectories):\n",
    "    sim.reset_initial_state()\n",
    "    for _ in range(14):\n",
    "        sim.step()\n",
    "\n",
    "    free_and_infectious_group_0[i] = sim.get_free_infectious(0)\n",
    "    free_and_infectious_group_1[i] = sim.get_free_infectious(1)\n",
    "    free_and_infectious_group_2[i] = sim.get_free_infectious(2)\n",
    "\n",
    "    QS_group_0[i] = sim.sims[0].QS\n",
    "    QS_group_1[i] = sim.sims[1].QS\n",
    "    QS_group_2[i] = sim.sims[2].QS\n",
    "\n",
    "    QI_group_0[i] = sim.sims[0].QI\n",
    "    QI_group_1[i] = sim.sims[1].QI\n",
    "    QI_group_2[i] = sim.sims[2].QI\n"
   ]
  },
  {
   "cell_type": "code",
   "execution_count": 27,
   "metadata": {},
   "outputs": [
    {
     "name": "stdout",
     "output_type": "stream",
     "text": [
      "6.06 6.3 8.505\n"
     ]
    }
   ],
   "source": [
    "print(np.mean(free_and_infectious_group_0), np.mean(free_and_infectious_group_1), np.mean(free_and_infectious_group_2))"
   ]
  },
  {
   "cell_type": "code",
   "execution_count": 28,
   "metadata": {},
   "outputs": [
    {
     "name": "stdout",
     "output_type": "stream",
     "text": [
      "35.34 17.34 32.07\n"
     ]
    }
   ],
   "source": [
    "print(np.mean(QS_group_0), np.mean(QS_group_1), np.mean(QS_group_2)) "
   ]
  },
  {
   "cell_type": "code",
   "execution_count": 29,
   "metadata": {},
   "outputs": [
    {
     "name": "stdout",
     "output_type": "stream",
     "text": [
      "7.405 3.445 6.63\n"
     ]
    }
   ],
   "source": [
    "print(np.mean(QI_group_0), np.mean(QI_group_1), np.mean(QI_group_2)) "
   ]
  },
  {
   "cell_type": "code",
   "execution_count": 37,
   "metadata": {},
   "outputs": [],
   "source": [
    "grp_params, grp_names, interactions_mtx = \\\n",
    "    load_multigroup_params(\"../src/simulations_v2/params/multigroup/mandatory_quarantine_local_only_aug_3.yaml\")\n",
    "\n",
    "sim = MultiGroupSimulation(grp_params, interactions_mtx, grp_names)"
   ]
  },
  {
   "cell_type": "code",
   "execution_count": 38,
   "metadata": {},
   "outputs": [],
   "source": [
    "num_trajectories = 200\n",
    "# group 0: non-quarantined students already in Ithaca; group 1: faculty / staff\n",
    "free_and_infectious_group_0_local = np.zeros(num_trajectories)\n",
    "free_and_infectious_group_1_local = np.zeros(num_trajectories)\n",
    "\n",
    "QS_group_0_local = np.zeros(num_trajectories)\n",
    "QS_group_1_local = np.zeros(num_trajectories)\n",
    "\n",
    "QI_group_0_local = np.zeros(num_trajectories)\n",
    "QI_group_1_local = np.zeros(num_trajectories)\n",
    "\n",
    "\n",
    "for i in range(num_trajectories):\n",
    "    sim.reset_initial_state()\n",
    "    for _ in range(14):\n",
    "        sim.step()\n",
    "\n",
    "    free_and_infectious_group_0_local[i] = sim.get_free_infectious(0)\n",
    "    free_and_infectious_group_1_local[i] = sim.get_free_infectious(1)\n",
    "\n",
    "    QS_group_0_local[i] = sim.sims[0].QS\n",
    "    QS_group_1_local[i] = sim.sims[1].QS\n",
    "\n",
    "    QI_group_0_local[i] = sim.sims[0].QI\n",
    "    QI_group_1_local[i] = sim.sims[1].QI\n"
   ]
  },
  {
   "cell_type": "code",
   "execution_count": 39,
   "metadata": {},
   "outputs": [
    {
     "name": "stdout",
     "output_type": "stream",
     "text": [
      "4.96 8.245\n"
     ]
    }
   ],
   "source": [
    "print(np.mean(free_and_infectious_group_0_local), np.mean(free_and_infectious_group_1_local))"
   ]
  },
  {
   "cell_type": "code",
   "execution_count": 40,
   "metadata": {},
   "outputs": [
    {
     "name": "stdout",
     "output_type": "stream",
     "text": [
      "15.48 32.73\n"
     ]
    }
   ],
   "source": [
    "print(np.mean(QS_group_0_local), np.mean(QS_group_1_local)) "
   ]
  },
  {
   "cell_type": "code",
   "execution_count": 41,
   "metadata": {},
   "outputs": [
    {
     "name": "stdout",
     "output_type": "stream",
     "text": [
      "2.995 6.905\n"
     ]
    }
   ],
   "source": [
    "print(np.mean(QI_group_0_local), np.mean(QI_group_1_local)) "
   ]
  },
  {
   "cell_type": "code",
   "execution_count": null,
   "metadata": {},
   "outputs": [],
   "source": []
  }
 ],
 "metadata": {
  "kernelspec": {
   "display_name": "Python 3",
   "language": "python",
   "name": "python3"
  },
  "language_info": {
   "codemirror_mode": {
    "name": "ipython",
    "version": 3
   },
   "file_extension": ".py",
   "mimetype": "text/x-python",
   "name": "python",
   "nbconvert_exporter": "python",
   "pygments_lexer": "ipython3",
   "version": "3.7.6"
  }
 },
 "nbformat": 4,
 "nbformat_minor": 2
}
