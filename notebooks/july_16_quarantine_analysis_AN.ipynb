{
 "cells": [
  {
   "cell_type": "code",
   "execution_count": 1,
   "metadata": {},
   "outputs": [],
   "source": [
    "import pandas as pd\n",
    "import numpy as np\n",
    "import matplotlib.pyplot as plt\n",
    "import glob\n",
    "import os"
   ]
  },
  {
   "cell_type": "code",
   "execution_count": 2,
   "metadata": {},
   "outputs": [],
   "source": [
    "scenarios = ['2-100', '2-50', '2-0', '4-100', '4-50', '4-0']\n",
    "dirs = ['/nfs01/covid_sims/1594916142.7898164-asymptomatic_daily_self_report_p', \n",
    "        '/nfs01/covid_sims/1594916203.3577962-asymptomatic_daily_self_report_p',\n",
    "        '/nfs01/covid_sims/1594916282.027457-asymptomatic_daily_self_report_p',\n",
    "        '/nfs01/covid_sims/1594916322.2306442-asymptomatic_daily_self_report_p',\n",
    "        '/nfs01/covid_sims/1594916365.789485-asymptomatic_daily_self_report_p',\n",
    "        '/nfs01/covid_sims/1594916408.044484-asymptomatic_daily_self_report_p']"
   ]
  },
  {
   "cell_type": "code",
   "execution_count": 3,
   "metadata": {},
   "outputs": [
    {
     "name": "stdout",
     "output_type": "stream",
     "text": [
      "QI Avg = 199.48, QS Avg = 559.38, for scenario = 2-100\n",
      "QI Avg = 230.07, QS Avg = 628.94, for scenario = 2-50\n",
      "QI Avg = 266.61, QS Avg = 707.09, for scenario = 2-0\n",
      "QI Avg = 213.94, QS Avg = 591.29, for scenario = 4-100\n",
      "QI Avg = 281.99, QS Avg = 744.09, for scenario = 4-50\n",
      "QI Avg = 347.87, QS Avg = 886.9, for scenario = 4-0\n"
     ]
    }
   ],
   "source": [
    "for j, PATH in enumerate(dirs):\n",
    "    os.chdir(PATH)\n",
    "    results = glob.glob('**/simulation-0/*.csv', recursive=True) # simulatino-0 corresponds to daily testing frac = 0.2\n",
    "    #print(len(results))\n",
    "    n_trajectories = len(results)\n",
    "    cum_QI = np.zeros(n_trajectories)\n",
    "    cum_QS = np.zeros(n_trajectories)\n",
    "    for i, res in enumerate(results):\n",
    "        df = pd.read_csv(res)\n",
    "        cum_QI[i] = df['QI'].iloc[-1]\n",
    "        cum_QS[i] = df['QS'].iloc[-1]\n",
    "\n",
    "    avg_cum_QI = np.mean(cum_QI)\n",
    "    avg_cum_QS = np.mean(cum_QS)\n",
    "    print('QI Avg = {}, QS Avg = {}, for scenario = {}'.format(avg_cum_QI, avg_cum_QS, scenarios[j]))\n",
    "    "
   ]
  },
  {
   "cell_type": "code",
   "execution_count": null,
   "metadata": {},
   "outputs": [],
   "source": []
  }
 ],
 "metadata": {
  "kernelspec": {
   "display_name": "Python 3",
   "language": "python",
   "name": "python3"
  },
  "language_info": {
   "codemirror_mode": {
    "name": "ipython",
    "version": 3
   },
   "file_extension": ".py",
   "mimetype": "text/x-python",
   "name": "python",
   "nbconvert_exporter": "python",
   "pygments_lexer": "ipython3",
   "version": "3.7.6"
  }
 },
 "nbformat": 4,
 "nbformat_minor": 4
}
