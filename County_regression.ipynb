{
 "cells": [
  {
   "cell_type": "code",
   "execution_count": 1,
   "metadata": {},
   "outputs": [],
   "source": [
    "import numpy as np\n",
    "import pandas as pd\n",
    "import statsmodels.api as sm\n",
    "import matplotlib.pyplot as plt"
   ]
  },
  {
   "cell_type": "code",
   "execution_count": 220,
   "metadata": {},
   "outputs": [
    {
     "data": {
      "text/html": [
       "<div>\n",
       "<style scoped>\n",
       "    .dataframe tbody tr th:only-of-type {\n",
       "        vertical-align: middle;\n",
       "    }\n",
       "\n",
       "    .dataframe tbody tr th {\n",
       "        vertical-align: top;\n",
       "    }\n",
       "\n",
       "    .dataframe thead th {\n",
       "        text-align: right;\n",
       "    }\n",
       "</style>\n",
       "<table border=\"1\" class=\"dataframe\">\n",
       "  <thead>\n",
       "    <tr style=\"text-align: right;\">\n",
       "      <th></th>\n",
       "      <th>Unnamed: 0</th>\n",
       "      <th>date</th>\n",
       "      <th>county_name</th>\n",
       "      <th>long_county_name</th>\n",
       "      <th>state</th>\n",
       "      <th>pop_density</th>\n",
       "      <th>population</th>\n",
       "      <th>death_count</th>\n",
       "    </tr>\n",
       "  </thead>\n",
       "  <tbody>\n",
       "    <tr>\n",
       "      <th>0</th>\n",
       "      <td>0</td>\n",
       "      <td>1/22/20</td>\n",
       "      <td>Autauga</td>\n",
       "      <td>Autauga, Alabama, US</td>\n",
       "      <td>Alabama</td>\n",
       "      <td>91.8</td>\n",
       "      <td>55869</td>\n",
       "      <td>0</td>\n",
       "    </tr>\n",
       "    <tr>\n",
       "      <th>1</th>\n",
       "      <td>1</td>\n",
       "      <td>1/22/20</td>\n",
       "      <td>Baldwin</td>\n",
       "      <td>Baldwin, Alabama, US</td>\n",
       "      <td>Alabama</td>\n",
       "      <td>114.6</td>\n",
       "      <td>223234</td>\n",
       "      <td>0</td>\n",
       "    </tr>\n",
       "    <tr>\n",
       "      <th>2</th>\n",
       "      <td>2</td>\n",
       "      <td>1/22/20</td>\n",
       "      <td>Barbour</td>\n",
       "      <td>Barbour, Alabama, US</td>\n",
       "      <td>Alabama</td>\n",
       "      <td>31.0</td>\n",
       "      <td>24686</td>\n",
       "      <td>0</td>\n",
       "    </tr>\n",
       "    <tr>\n",
       "      <th>3</th>\n",
       "      <td>3</td>\n",
       "      <td>1/22/20</td>\n",
       "      <td>Bibb</td>\n",
       "      <td>Bibb, Alabama, US</td>\n",
       "      <td>Alabama</td>\n",
       "      <td>36.8</td>\n",
       "      <td>22394</td>\n",
       "      <td>0</td>\n",
       "    </tr>\n",
       "    <tr>\n",
       "      <th>4</th>\n",
       "      <td>4</td>\n",
       "      <td>1/22/20</td>\n",
       "      <td>Blount</td>\n",
       "      <td>Blount, Alabama, US</td>\n",
       "      <td>Alabama</td>\n",
       "      <td>88.9</td>\n",
       "      <td>57826</td>\n",
       "      <td>0</td>\n",
       "    </tr>\n",
       "  </tbody>\n",
       "</table>\n",
       "</div>"
      ],
      "text/plain": [
       "   Unnamed: 0     date county_name      long_county_name    state  \\\n",
       "0           0  1/22/20     Autauga  Autauga, Alabama, US  Alabama   \n",
       "1           1  1/22/20     Baldwin  Baldwin, Alabama, US  Alabama   \n",
       "2           2  1/22/20     Barbour  Barbour, Alabama, US  Alabama   \n",
       "3           3  1/22/20        Bibb     Bibb, Alabama, US  Alabama   \n",
       "4           4  1/22/20      Blount   Blount, Alabama, US  Alabama   \n",
       "\n",
       "   pop_density  population  death_count  \n",
       "0         91.8       55869            0  \n",
       "1        114.6      223234            0  \n",
       "2         31.0       24686            0  \n",
       "3         36.8       22394            0  \n",
       "4         88.9       57826            0  "
      ]
     },
     "execution_count": 220,
     "metadata": {},
     "output_type": "execute_result"
    }
   ],
   "source": [
    "# read in data that includes county-level population density and time-series death counts \n",
    "df_density = pd.read_csv(\"/Users/yujiazhang/Downloads/covid_county_data (1).csv\")\n",
    "df_density.head()"
   ]
  },
  {
   "cell_type": "code",
   "execution_count": 221,
   "metadata": {},
   "outputs": [
    {
     "data": {
      "text/html": [
       "<div>\n",
       "<style scoped>\n",
       "    .dataframe tbody tr th:only-of-type {\n",
       "        vertical-align: middle;\n",
       "    }\n",
       "\n",
       "    .dataframe tbody tr th {\n",
       "        vertical-align: top;\n",
       "    }\n",
       "\n",
       "    .dataframe thead th {\n",
       "        text-align: right;\n",
       "    }\n",
       "</style>\n",
       "<table border=\"1\" class=\"dataframe\">\n",
       "  <thead>\n",
       "    <tr style=\"text-align: right;\">\n",
       "      <th></th>\n",
       "      <th>county name</th>\n",
       "      <th>pop_density</th>\n",
       "    </tr>\n",
       "  </thead>\n",
       "  <tbody>\n",
       "    <tr>\n",
       "      <th>0</th>\n",
       "      <td>Autauga, Alabama, US</td>\n",
       "      <td>91.8</td>\n",
       "    </tr>\n",
       "    <tr>\n",
       "      <th>1</th>\n",
       "      <td>Baldwin, Alabama, US</td>\n",
       "      <td>114.6</td>\n",
       "    </tr>\n",
       "    <tr>\n",
       "      <th>2</th>\n",
       "      <td>Barbour, Alabama, US</td>\n",
       "      <td>31.0</td>\n",
       "    </tr>\n",
       "    <tr>\n",
       "      <th>3</th>\n",
       "      <td>Bibb, Alabama, US</td>\n",
       "      <td>36.8</td>\n",
       "    </tr>\n",
       "    <tr>\n",
       "      <th>4</th>\n",
       "      <td>Blount, Alabama, US</td>\n",
       "      <td>88.9</td>\n",
       "    </tr>\n",
       "  </tbody>\n",
       "</table>\n",
       "</div>"
      ],
      "text/plain": [
       "            county name  pop_density\n",
       "0  Autauga, Alabama, US         91.8\n",
       "1  Baldwin, Alabama, US        114.6\n",
       "2  Barbour, Alabama, US         31.0\n",
       "3     Bibb, Alabama, US         36.8\n",
       "4   Blount, Alabama, US         88.9"
      ]
     },
     "execution_count": 221,
     "metadata": {},
     "output_type": "execute_result"
    }
   ],
   "source": [
    "# Get county names; 3140 counties in total\n",
    "# Moreover, we need long county names because some county names appear more than once \n",
    "# (e.g. Bibb, Alabama and Bibb, Georgia)\n",
    "\n",
    "county_names = df_density['county_name'][0:3140]\n",
    "long_county_names = df_density['long_county_name'][0:3140]\n",
    "\n",
    "# Create county_reg dataframe for regression\n",
    "county_reg = pd.DataFrame({'county name' : long_county_names})\n",
    "\n",
    "# get population density of each county and store in regression df; this will be our covariate\n",
    "# unit: number of people / square mile\n",
    "\n",
    "pop_density = df_density['pop_density'][0:3140]\n",
    "county_reg['pop_density'] = pop_density\n",
    "\n",
    "county_reg.head()"
   ]
  },
  {
   "cell_type": "code",
   "execution_count": null,
   "metadata": {},
   "outputs": [],
   "source": [
    "# specify a cutoff date, roughly ~ 2 weeks after social distancing measures are enforced\n",
    "# we only consider data before the cutoff date because those are representative of the \n",
    "# infection trends without distancing\n",
    "\n",
    "cutoffdate = np.where(A['date'] == '4/5/20')[0][0]\n"
   ]
  },
  {
   "cell_type": "code",
   "execution_count": 222,
   "metadata": {},
   "outputs": [],
   "source": [
    "# define function to compute difference in log of a given array\n",
    "# in order to get an estimate for ln(alpha) for each county\n",
    "\n",
    "def diff_log(x, nsmooth=4):\n",
    "    \n",
    "    n = len(x)\n",
    "    output=[]\n",
    "    \n",
    "    if n == 1:\n",
    "        # if the input has length 1, i.e. new deaths occurred right before cutoff date,\n",
    "        # return 0, as it doesn't give much signal about how the infection grows\n",
    "        # (This could be improved)\n",
    "        \n",
    "        return 0\n",
    "    \n",
    "    elif n > 1:\n",
    "        # if the input has length > 1, compute the difference in log of successive entries\n",
    "        \n",
    "        for i in range(1,n):\n",
    "            output.append(np.log(x[i]) - np.log(x[i-1]))\n",
    "        \n",
    "        if n < nsmooth:           \n",
    "            # if the length of input is smaller than smoothing radius\n",
    "            # just take the mean of the difference-in-log array\n",
    "            \n",
    "            return np.mean(output)\n",
    "        else:            \n",
    "            # if the length of the input is larger than the smoothing radius\n",
    "            # compute the mean of the last <nsmooth> terms of the diff-in-log array\n",
    "            \n",
    "            return np.mean(output[-nsmooth:])\n",
    "    "
   ]
  },
  {
   "cell_type": "code",
   "execution_count": 231,
   "metadata": {},
   "outputs": [
    {
     "name": "stderr",
     "output_type": "stream",
     "text": [
      "/Users/yujiazhang/anaconda3/lib/python3.7/site-packages/ipykernel_launcher.py:19: RuntimeWarning: divide by zero encountered in log\n",
      "/Users/yujiazhang/anaconda3/lib/python3.7/site-packages/ipykernel_launcher.py:19: RuntimeWarning: invalid value encountered in double_scalars\n"
     ]
    }
   ],
   "source": [
    "# loop over all counties, decide whether to include them in the regression or not,\n",
    "# and estimate their ln(alpha) based on growth in death counts\n",
    "\n",
    "valid = np.zeros(3140)\n",
    "difflog = np.zeros(3140)\n",
    "\n",
    "for i in range(len(county_names)):\n",
    "    #print(county_names[i])\n",
    "    # for each county, start computing after the occurrence of the first death\n",
    "    county = df_density[df_density['long_county_name'] == long_county_names[i]]\n",
    "    \n",
    "    # find the time of the first death\n",
    "    if any(county['death_count']>=1):\n",
    "        first_death_time = np.min(np.where(county['death_count']>=1))\n",
    "    \n",
    "        if first_death_time >= cutoffdate:\n",
    "            # if the first death of the county occurred after the last day of interest\n",
    "            # we do not include this county in the regression\n",
    "        \n",
    "            valid[i] = False\n",
    "        \n",
    "        else:\n",
    "            # if the first death occurred before the last day of interest\n",
    "            # include it in the regression, and estimate difference-in-log(deaths) value\n",
    "            valid[i] = True\n",
    "            valid_death_counts = county['death_count'][first_death_time : (cutoffdate+1)]\n",
    "            difflog[i] = diff_log(valid_death_counts.values)\n",
    "    else:\n",
    "        valid[i] = False"
   ]
  },
  {
   "cell_type": "code",
   "execution_count": 225,
   "metadata": {},
   "outputs": [],
   "source": [
    "# store the above values in the regression dataframe\n",
    "county_reg['valid for reg'] = valid\n",
    "county_reg['diff_log(deaths)'] = difflog\n",
    "county_reg.head()"
   ]
  },
  {
   "cell_type": "code",
   "execution_count": 227,
   "metadata": {},
   "outputs": [
    {
     "data": {
      "text/html": [
       "<div>\n",
       "<style scoped>\n",
       "    .dataframe tbody tr th:only-of-type {\n",
       "        vertical-align: middle;\n",
       "    }\n",
       "\n",
       "    .dataframe tbody tr th {\n",
       "        vertical-align: top;\n",
       "    }\n",
       "\n",
       "    .dataframe thead th {\n",
       "        text-align: right;\n",
       "    }\n",
       "</style>\n",
       "<table border=\"1\" class=\"dataframe\">\n",
       "  <thead>\n",
       "    <tr style=\"text-align: right;\">\n",
       "      <th></th>\n",
       "      <th>county name</th>\n",
       "      <th>pop_density</th>\n",
       "      <th>valid for reg</th>\n",
       "      <th>diff_log(deaths)</th>\n",
       "    </tr>\n",
       "  </thead>\n",
       "  <tbody>\n",
       "    <tr>\n",
       "      <th>1</th>\n",
       "      <td>Baldwin, Alabama, US</td>\n",
       "      <td>114.6</td>\n",
       "      <td>1.0</td>\n",
       "      <td>0.000000</td>\n",
       "    </tr>\n",
       "    <tr>\n",
       "      <th>8</th>\n",
       "      <td>Chambers, Alabama, US</td>\n",
       "      <td>57.4</td>\n",
       "      <td>1.0</td>\n",
       "      <td>0.101366</td>\n",
       "    </tr>\n",
       "    <tr>\n",
       "      <th>21</th>\n",
       "      <td>Cullman, Alabama, US</td>\n",
       "      <td>109.4</td>\n",
       "      <td>1.0</td>\n",
       "      <td>0.000000</td>\n",
       "    </tr>\n",
       "    <tr>\n",
       "      <th>27</th>\n",
       "      <td>Etowah, Alabama, US</td>\n",
       "      <td>195.2</td>\n",
       "      <td>1.0</td>\n",
       "      <td>0.274653</td>\n",
       "    </tr>\n",
       "    <tr>\n",
       "      <th>34</th>\n",
       "      <td>Houston, Alabama, US</td>\n",
       "      <td>175.1</td>\n",
       "      <td>1.0</td>\n",
       "      <td>0.000000</td>\n",
       "    </tr>\n",
       "  </tbody>\n",
       "</table>\n",
       "</div>"
      ],
      "text/plain": [
       "              county name  pop_density  valid for reg  diff_log(deaths)\n",
       "1    Baldwin, Alabama, US        114.6            1.0          0.000000\n",
       "8   Chambers, Alabama, US         57.4            1.0          0.101366\n",
       "21   Cullman, Alabama, US        109.4            1.0          0.000000\n",
       "27    Etowah, Alabama, US        195.2            1.0          0.274653\n",
       "34   Houston, Alabama, US        175.1            1.0          0.000000"
      ]
     },
     "execution_count": 227,
     "metadata": {},
     "output_type": "execute_result"
    }
   ],
   "source": [
    "# extract valid ones for regression\n",
    "\n",
    "county_reg_valid  = county_reg[county_reg['valid for reg']==1]\n",
    "county_reg_valid.head()"
   ]
  },
  {
   "cell_type": "code",
   "execution_count": 229,
   "metadata": {},
   "outputs": [
    {
     "data": {
      "text/plain": [
       "Text(0, 0.5, 'log(alpha)')"
      ]
     },
     "execution_count": 229,
     "metadata": {},
     "output_type": "execute_result"
    },
    {
     "data": {
      "image/png": "[encoded data removed]",
      "text/plain": [
       "<Figure size 432x288 with 1 Axes>"
      ]
     },
     "metadata": {
      "needs_background": "light"
     },
     "output_type": "display_data"
    }
   ],
   "source": [
    "# plot diff_log(deaths) against population density\n",
    "\n",
    "plt.scatter(county_reg_valid['pop_density'], county_reg_valid['diff_log(deaths)'])\n",
    "plt.title('log(alpha) vs. pop_density for US counties with deaths before 4/5/20')\n",
    "plt.xlabel('pop_density (# people/sq mile)')\n",
    "plt.ylabel('log(alpha)')"
   ]
  },
  {
   "cell_type": "code",
   "execution_count": 228,
   "metadata": {},
   "outputs": [
    {
     "data": {
      "text/plain": [
       "Text(0, 0.5, 'log(alpha)')"
      ]
     },
     "execution_count": 228,
     "metadata": {},
     "output_type": "execute_result"
    },
    {
     "data": {
      "image/png": "[encoded data removed]",
      "text/plain": [
       "<Figure size 432x288 with 1 Axes>"
      ]
     },
     "metadata": {
      "needs_background": "light"
     },
     "output_type": "display_data"
    }
   ],
   "source": [
    "# plot diff_log(deaths) against log(population density)\n",
    "\n",
    "plt.scatter(np.log(county_reg_valid['pop_density']), county_reg_valid['diff_log(deaths)'])\n",
    "plt.title('log(alpha) vs. log(pop_density) for US counties with deaths before 4/5/20')\n",
    "plt.xlabel('log(pop_density) (log(# people/sq mile))')\n",
    "plt.ylabel('log(alpha)')"
   ]
  },
  {
   "cell_type": "code",
   "execution_count": 236,
   "metadata": {},
   "outputs": [
    {
     "name": "stdout",
     "output_type": "stream",
     "text": [
      "                            OLS Regression Results                            \n",
      "==============================================================================\n",
      "Dep. Variable:       diff_log(deaths)   R-squared:                         nan\n",
      "Model:                            OLS   Adj. R-squared:                    nan\n",
      "Method:                 Least Squares   F-statistic:                       nan\n",
      "Date:                Thu, 16 Apr 2020   Prob (F-statistic):                nan\n",
      "Time:                        00:49:02   Log-Likelihood:                    nan\n",
      "No. Observations:                 697   AIC:                               nan\n",
      "Df Residuals:                     695   BIC:                               nan\n",
      "Df Model:                           1                                         \n",
      "Covariance Type:            nonrobust                                         \n",
      "===============================================================================\n",
      "                  coef    std err          t      P>|t|      [0.025      0.975]\n",
      "-------------------------------------------------------------------------------\n",
      "const              nan        nan        nan        nan         nan         nan\n",
      "pop_density        nan        nan        nan        nan         nan         nan\n",
      "==============================================================================\n",
      "Omnibus:                          nan   Durbin-Watson:                     nan\n",
      "Prob(Omnibus):                    nan   Jarque-Bera (JB):                  nan\n",
      "Skew:                             nan   Prob(JB):                          nan\n",
      "Kurtosis:                         nan   Cond. No.                         21.0\n",
      "==============================================================================\n",
      "\n",
      "Warnings:\n",
      "[1] Standard Errors assume that the covariance matrix of the errors is correctly specified.\n"
     ]
    }
   ],
   "source": [
    "# linear regression on pop density and diff_log(deaths)\n",
    "# results are invalid. probably there's a bug somewhere\n",
    "# will look at nonlinear regression tomorrow\n",
    "\n",
    "covariates = np.transpose(np.log(county_reg_valid['pop_density']))\n",
    "covariates = sm.add_constant(covariates)\n",
    "mod = sm.OLS(county_reg_valid['diff_log(deaths)'], covariates)\n",
    "res = mod.fit()\n",
    "print(res.summary())"
   ]
  },
  {
   "cell_type": "code",
   "execution_count": null,
   "metadata": {},
   "outputs": [],
   "source": []
  }
 ],
 "metadata": {
  "kernelspec": {
   "display_name": "Python 3",
   "language": "python",
   "name": "python3"
  },
  "language_info": {
   "codemirror_mode": {
    "name": "ipython",
    "version": 3
   },
   "file_extension": ".py",
   "mimetype": "text/x-python",
   "name": "python",
   "nbconvert_exporter": "python",
   "pygments_lexer": "ipython3",
   "version": "3.7.1"
  }
 },
 "nbformat": 4,
 "nbformat_minor": 2
}
