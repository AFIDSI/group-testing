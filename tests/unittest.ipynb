{
 "cells": [
  {
   "cell_type": "code",
   "execution_count": 473,
   "metadata": {},
   "outputs": [],
   "source": [
    "import sys\n",
    "import os\n",
    "import numpy as np\n",
    "module_path = os.path.abspath(os.path.join('..'))\n",
    "if module_path not in sys.path:\n",
    "    sys.path.append(module_path + \"/src/simulations_v2\")\n",
    "\n",
    "\n",
    "\n",
    "from analysis_helpers import poisson_waiting_function\n",
    "from subdivide_severity import subdivide_severity\n",
    "from stochastic_simulation import StochasticSimulation\n",
    "import unittest\n"
   ]
  },
  {
   "cell_type": "code",
   "execution_count": 474,
   "metadata": {},
   "outputs": [],
   "source": [
    "# copy from base_params\n",
    "pct_self_reports_severe = 1\n",
    "\n",
    "daily_self_report_severe = 0.8\n",
    "daily_self_report_mild = 0\n",
    "\n",
    "\n",
    "avg_infectious_window = 4 + pct_self_reports_severe * (1 / daily_self_report_severe) \n",
    "if daily_self_report_mild != 0:\n",
    "    avg_infectious_window += (1 - pct_self_reports_severe) * (1 / daily_self_report_mild)\n",
    "pre_reopen_population = 2500\n",
    "pre_reopen_daily_contacts = 7\n",
    "\n",
    "\n",
    "prob_severity_given_age = np.array([[0.05, 0.94, 0.01, 0],\\\n",
    "                                    [0.04, 0.83, 0.10, 0.03],\\\n",
    "                                    [0.04, 0.79, 0.10, 0.07],\\\n",
    "                                    [0.04, 0.73, 0.13, 0.10],\\\n",
    "                                    [0.03, 0.57, 0.2, 0.2]])\n",
    "\n",
    "prob_infection = np.array([0.018, 0.022, 0.029, 0.042, 0.042])\n",
    "prob_age = np.array([0, 0.6534332, 0.3221892, 0.0209788, 0.0033988])"
   ]
  },
  {
   "cell_type": "code",
   "execution_count": 475,
   "metadata": {},
   "outputs": [],
   "source": [
    "# test parameters\n",
    "test_params = {\n",
    "    'max_time_exposed': 4,\n",
    "    'exposed_time_function': poisson_waiting_function(max_time=4, mean_time=2),\n",
    "    \n",
    "    'max_time_pre_ID': 4,\n",
    "    'pre_ID_time_function': poisson_waiting_function(max_time=4, mean_time=0),\n",
    "    \n",
    "    'max_time_ID': 8,\n",
    "    'ID_time_function': poisson_waiting_function(max_time=8, mean_time=3),\n",
    "    \n",
    "    'max_time_SyID_mild': 14,\n",
    "    'SyID_mild_time_function': poisson_waiting_function(max_time=14, mean_time=10),\n",
    "    \n",
    "    'max_time_SyID_severe': 14,\n",
    "    'SyID_severe_time_function': poisson_waiting_function(max_time=14, mean_time=10),\n",
    "    \n",
    "    'sample_QI_exit_function': (lambda n: np.random.binomial(n, 0.05)),\n",
    "    'sample_QS_exit_function': (lambda n: np.random.binomial(n, 0.3)),\n",
    "    \n",
    "    'exposed_infection_p': 0.026,\n",
    "    'expected_contacts_per_day': pre_reopen_daily_contacts,\n",
    "    \n",
    "    'mild_severity_levels': 1,\n",
    "    'severity_prevalence': subdivide_severity(prob_severity_given_age, prob_infection, prob_age),\n",
    "    'mild_symptoms_daily_self_report_p': daily_self_report_mild,\n",
    "    'severe_symptoms_daily_self_report_p': daily_self_report_severe,\n",
    "    \n",
    "    'days_between_tests': 300,\n",
    "    'test_population_fraction': 0,\n",
    "    \n",
    "    'test_protocol_QFNR': 0.1,\n",
    "    'test_protocol_QFPR': 0.005,\n",
    "    \n",
    "    'perform_contact_tracing': True,\n",
    "    'contact_tracing_constant': 0.5,\n",
    "    'contact_tracing_delay': 1,\n",
    "    'contact_trace_infectious_window': avg_infectious_window,\n",
    "    \n",
    "    'pre_ID_state': 'detectable',\n",
    "    \n",
    "    'population_size': 100,\n",
    "    'initial_E_count': 0,\n",
    "    'initial_pre_ID_count': 0,\n",
    "    'initial_ID_count': 0,\n",
    "    'initial_ID_prevalence': 0.001,\n",
    "    'initial_SyID_mild_count': 0,\n",
    "    'initial_SyID_severe_count': 0\n",
    "}"
   ]
  },
  {
   "cell_type": "code",
   "execution_count": 476,
   "metadata": {},
   "outputs": [],
   "source": [
    "# 99% confidence interavl test\n",
    "\n",
    "class Testing(unittest.TestCase):\n",
    "    \n",
    "    longMessage = False\n",
    "    \n",
    "    def test_estimate_infection(self):\n",
    "        \n",
    "        # mean and var from replications\n",
    "        mean1 = 2.192\n",
    "        var1 = 4.765135999999998  #var = mean(abs(x - x.mean())**2)\n",
    "        \n",
    "        \n",
    "        simulation = np.zeros(100)\n",
    "        for n in range(100):\n",
    "            sim = StochasticSimulation(test_params)\n",
    "            for _ in range(100):\n",
    "                sim.step()\n",
    "            simulation[n] = 100 - sim.S - sim.QS   \n",
    "            \n",
    "        # mean and varr from simulations\n",
    "        mean2 = np.mean(simulation) \n",
    "        var2 = np.var(simulation,ddof=1)\n",
    "        \n",
    "        #2.33 99%\n",
    "        lb = (mean1-mean2) - 2.33* math.sqrt(var1/1000.0+var2/100.0)\n",
    "        ub = (mean1-mean2) + 2.33* math.sqrt(var1/1000.0+var2/100.0)\n",
    "        self.assertTrue(lb <= 0 <= ub)\n",
    "        \n",
    "        print mean2, var2, lb, ub"
   ]
  },
  {
   "cell_type": "code",
   "execution_count": 477,
   "metadata": {},
   "outputs": [
    {
     "name": "stderr",
     "output_type": "stream",
     "text": [
      "test_estimate_infection (__main__.Testing) ... "
     ]
    },
    {
     "name": "stdout",
     "output_type": "stream",
     "text": [
      "1.96 2.7054545454545456 -0.1836270788201626 0.647627078820163\n"
     ]
    },
    {
     "name": "stderr",
     "output_type": "stream",
     "text": [
      "ok\n",
      "\n",
      "----------------------------------------------------------------------\n",
      "Ran 1 test in 85.485s\n",
      "\n",
      "OK\n"
     ]
    },
    {
     "data": {
      "text/plain": [
       "<unittest.main.TestProgram at 0x1a1f2bc310>"
      ]
     },
     "execution_count": 477,
     "metadata": {},
     "output_type": "execute_result"
    }
   ],
   "source": [
    "unittest.main(argv=[''], verbosity=2, exit=False)"
   ]
  },
  {
   "cell_type": "code",
   "execution_count": null,
   "metadata": {},
   "outputs": [],
   "source": []
  },
  {
   "cell_type": "code",
   "execution_count": null,
   "metadata": {},
   "outputs": [],
   "source": []
  },
  {
   "cell_type": "code",
   "execution_count": null,
   "metadata": {},
   "outputs": [],
   "source": []
  },
  {
   "cell_type": "code",
   "execution_count": null,
   "metadata": {},
   "outputs": [],
   "source": []
  },
  {
   "cell_type": "code",
   "execution_count": null,
   "metadata": {},
   "outputs": [],
   "source": []
  },
  {
   "cell_type": "code",
   "execution_count": null,
   "metadata": {},
   "outputs": [],
   "source": [
    "# some variable values test"
   ]
  },
  {
   "cell_type": "code",
   "execution_count": null,
   "metadata": {},
   "outputs": [],
   "source": [
    "class Testing(unittest.TestCase):\n",
    "    \n",
    "    # initial parameters\n",
    "    def setUp(self):\n",
    "        np.random.seed(0)\n",
    "        self.sim = StochasticSimulation(test_params)\n",
    "\n",
    "    def test_e(self):\n",
    "        self.assertEqual(self.sim.E.tolist(), np.array([0, 0, 0, 0]).tolist())\n",
    "    def test_pre_id(self):\n",
    "        self.assertEqual(self.sim.pre_ID.tolist(), np.array([0, 0, 0, 0]).tolist())\n",
    "    def test_id(self):\n",
    "        self.assertEqual(self.sim.ID.tolist(), np.array([0, 0, 1, 0, 0, 0, 0, 0]).tolist()) \n",
    "    def test_syid_mild(self):\n",
    "        self.assertEqual(self.sim.SyID_mild.tolist(), np.array([0, 0, 0, 0, 0, 0, 0, 0, 0, 0, 0, 0, 0, 0]).tolist()) \n",
    "    def test_syid_severe(self):\n",
    "        self.assertEqual(self.sim.SyID_severe.tolist(), np.array([0, 0, 0, 0, 0, 0, 0, 0, 0, 0, 0, 0, 0, 0]).tolist())\n",
    "           \n",
    "    # parameters after calling step()\n",
    "    def test_step_id(self):\n",
    "        self.sim.step()\n",
    "        self.assertEqual(self.sim.ID.tolist(), np.array([0, 1, 0, 0, 0, 0, 0, 0]).tolist())\n",
    "    \n",
    "    def test_step_qi(self):\n",
    "        self.sim.step()\n",
    "        self.assertEqual(self.sim.QI, 0)\n",
    "        \n",
    "    def test_step_qi_mild(self):\n",
    "        self.sim.step()\n",
    "        self.assertEqual(self.sim.QI_mild, 0)\n",
    "    \n",
    "    def test_step_qi_severe(self):\n",
    "        self.sim.step()\n",
    "        self.assertEqual(self.sim.QI_severe, 0)\n",
    "        \n",
    "    def test_step_r(self):\n",
    "        self.sim.step()\n",
    "        self.assertEqual(self.sim.R, 0)\n",
    "        \n",
    "    def test_step_r_mild(self):\n",
    "        self.sim.step()\n",
    "        self.assertEqual(self.sim.R_mild, 0)\n",
    "        \n",
    "    def test_step_r_severe(self):\n",
    "        self.sim.step()\n",
    "        self.assertEqual(self.sim.R_severe, 0)\n",
    "        \n",
    "    def test_step_qs(self):\n",
    "        self.sim.step()\n",
    "        self.assertEqual(self.sim.QS, 0)\n",
    "        \n",
    "    def test_step_s(self):\n",
    "        self.sim.step()\n",
    "        self.assertEqual(self.sim.S, 99)"
   ]
  },
  {
   "cell_type": "code",
   "execution_count": null,
   "metadata": {},
   "outputs": [],
   "source": [
    "unittest.main(argv=[''], verbosity=2, exit=False)"
   ]
  },
  {
   "cell_type": "code",
   "execution_count": null,
   "metadata": {},
   "outputs": [],
   "source": []
  },
  {
   "cell_type": "code",
   "execution_count": null,
   "metadata": {},
   "outputs": [],
   "source": []
  },
  {
   "cell_type": "code",
   "execution_count": null,
   "metadata": {},
   "outputs": [],
   "source": []
  },
  {
   "cell_type": "code",
   "execution_count": null,
   "metadata": {},
   "outputs": [],
   "source": []
  },
  {
   "cell_type": "code",
   "execution_count": null,
   "metadata": {},
   "outputs": [],
   "source": []
  },
  {
   "cell_type": "code",
   "execution_count": null,
   "metadata": {},
   "outputs": [],
   "source": []
  },
  {
   "cell_type": "code",
   "execution_count": null,
   "metadata": {},
   "outputs": [],
   "source": [
    "# 1000 replications to get an estimate"
   ]
  },
  {
   "cell_type": "code",
   "execution_count": null,
   "metadata": {},
   "outputs": [],
   "source": [
    "import numpy as np\n",
    "from test_params import test_params\n",
    "from stochastic_simulation import StochasticSimulation"
   ]
  },
  {
   "cell_type": "code",
   "execution_count": 465,
   "metadata": {},
   "outputs": [
    {
     "name": "stdout",
     "output_type": "stream",
     "text": [
      "2.192\n",
      "4.765135999999998\n"
     ]
    }
   ],
   "source": [
    "numSeed = 1000\n",
    "\n",
    "infected = np.zeros(numSeed)\n",
    "\n",
    "np.random.seed(0)\n",
    "\n",
    "for n in range(numSeed):\n",
    "    sim = StochasticSimulation(test_params)\n",
    "        \n",
    "    # 100-day estimate\n",
    "    for s in range(100):\n",
    "        sim.step()\n",
    "        \n",
    "    infected[n] = 100 - sim.S - sim.QS\n",
    "    \n",
    "print np.mean(infected) \n",
    "print np.var(infected)"
   ]
  },
  {
   "cell_type": "code",
   "execution_count": null,
   "metadata": {},
   "outputs": [],
   "source": []
  },
  {
   "cell_type": "code",
   "execution_count": null,
   "metadata": {},
   "outputs": [],
   "source": []
  },
  {
   "cell_type": "code",
   "execution_count": null,
   "metadata": {},
   "outputs": [],
   "source": []
  },
  {
   "cell_type": "code",
   "execution_count": null,
   "metadata": {},
   "outputs": [],
   "source": []
  },
  {
   "cell_type": "code",
   "execution_count": null,
   "metadata": {},
   "outputs": [],
   "source": []
  },
  {
   "cell_type": "code",
   "execution_count": null,
   "metadata": {},
   "outputs": [],
   "source": []
  },
  {
   "cell_type": "code",
   "execution_count": null,
   "metadata": {},
   "outputs": [],
   "source": []
  },
  {
   "cell_type": "code",
   "execution_count": null,
   "metadata": {},
   "outputs": [],
   "source": []
  },
  {
   "cell_type": "code",
   "execution_count": null,
   "metadata": {},
   "outputs": [],
   "source": []
  }
 ],
 "metadata": {
  "kernelspec": {
   "display_name": "Python 2",
   "language": "python",
   "name": "python2"
  },
  "language_info": {
   "codemirror_mode": {
    "name": "ipython",
    "version": 2
   },
   "file_extension": ".py",
   "mimetype": "text/x-python",
   "name": "python",
   "nbconvert_exporter": "python",
   "pygments_lexer": "ipython2",
   "version": "2.7.16"
  }
 },
 "nbformat": 4,
 "nbformat_minor": 2
}
