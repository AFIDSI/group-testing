{
 "cells": [
  {
   "cell_type": "code",
   "execution_count": 1,
   "metadata": {},
   "outputs": [],
   "source": [
    "from population import Population\n",
    "from group_testing import GollierGroupTest\n",
    "\n",
    "\n",
    "n_households = 10000\n",
    "household_size_dist = [0.25] * 4\n",
    "prevalence = 0.05\n",
    "SAR = 0.7\n",
    "R0 = 3.5\n",
    "d0 = 14\n",
    "fatality_pct = 0.02\n",
    "pop = Population(n_households, household_size_dist, prevalence, SAR, R0, d0, fatality_pct)\n",
    "\n",
    "grptest = GollierGroupTest(infection_pct_blf=prevalence)"
   ]
  },
  {
   "cell_type": "code",
   "execution_count": 2,
   "metadata": {},
   "outputs": [],
   "source": [
    "from simulation import Simulation\n",
    "\n",
    "test_freq = 5\n",
    "\n",
    "simulation = Simulation(pop, grptest, 7)"
   ]
  },
  {
   "cell_type": "code",
   "execution_count": 5,
   "metadata": {},
   "outputs": [],
   "source": [
    "simulation.step()"
   ]
  },
  {
   "cell_type": "code",
   "execution_count": null,
   "metadata": {
    "collapsed": true
   },
   "outputs": [],
   "source": []
  }
 ],
 "metadata": {
  "kernelspec": {
   "display_name": "Python 3",
   "language": "python",
   "name": "python3"
  },
  "language_info": {
   "codemirror_mode": {
    "name": "ipython",
    "version": 3
   },
   "file_extension": ".py",
   "mimetype": "text/x-python",
   "name": "python",
   "nbconvert_exporter": "python",
   "pygments_lexer": "ipython3",
   "version": "3.6.3"
  }
 },
 "nbformat": 4,
 "nbformat_minor": 2
}
